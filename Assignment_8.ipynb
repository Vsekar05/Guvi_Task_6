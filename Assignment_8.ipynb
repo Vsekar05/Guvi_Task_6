{
  "cells": [
    {
      "cell_type": "markdown",
      "metadata": {
        "id": "brhncByLmOUf"
      },
      "source": [
        "# Assignment8"
      ]
    },
    {
      "cell_type": "code",
      "execution_count": 2,
      "metadata": {
        "collapsed": true,
        "id": "kB5jyXrqmOUl"
      },
      "outputs": [],
      "source": [
        "import pandas as pd\n",
        "import matplotlib.pyplot as plt\n",
        "import numpy as np\n",
        "from sklearn import linear_model"
      ]
    },
    {
      "cell_type": "markdown",
      "metadata": {
        "id": "PUC3_2spmOUo"
      },
      "source": [
        "# How Much is Your Car Worth?\n",
        "\n",
        "Data about the retail price of 2005 General Motors cars can be found in `car_data.csv`.\n",
        "\n",
        "The columns are:\n",
        "\n",
        "1. Price: suggested retail price of the used 2005 GM car in excellent condition.\n",
        "2. Mileage: number of miles the car has been driven\n",
        "3. Make: manufacturer of the car such as Saturn, Pontiac, and Chevrolet\n",
        "4. Model: specific models for each car manufacturer such as Ion, Vibe, Cavalier\n",
        "5. Trim (of car): specific type of car model such as SE Sedan 4D, Quad Coupe 2D          \n",
        "6. Type: body type such as sedan, coupe, etc.      \n",
        "7. Cylinder: number of cylinders in the engine        \n",
        "8. Liter: a more specific measure of engine size     \n",
        "9. Doors: number of doors           \n",
        "10. Cruise: indicator variable representing whether the car has cruise control (1 = cruise)\n",
        "11. Sound: indicator variable representing whether the car has upgraded speakers (1 = upgraded)\n",
        "12. Leather: indicator variable representing whether the car has leather seats (1 = leather)\n",
        "\n",
        "## Tasks, Part 1\n",
        "\n",
        "1. Find the linear regression equation for mileage vs price.\n",
        "2. Chart the original data and the equation on the chart.\n",
        "3. Find the equation's $R^2$ score (use the `.score` method) to determine whether the\n",
        "equation is a good fit for this data. (0.8 and greater is considered a strong correlation.)\n",
        "\n",
        "## Tasks, Part 2\n",
        "\n",
        "1. Use mileage, cylinders, liters, doors, cruise, sound, and leather to find the linear regression equation.\n",
        "2. Find the equation's $R^2$ score (use the `.score` method) to determine whether the\n",
        "equation is a good fit for this data. (0.8 and greater is considered a strong correlation.)\n",
        "3. Find the combination of the factors that is the best predictor for price.\n",
        "\n",
        "## Tasks, Hard Mode\n",
        "\n",
        "1. Research dummy variables in scikit-learn to see how to use the make, model, and body type.\n",
        "2. Find the best combination of factors to predict price."
      ]
    },
    {
      "cell_type": "code",
      "execution_count": 66,
      "metadata": {
        "id": "rm4wQ9W-mOUp",
        "colab": {
          "base_uri": "https://localhost:8080/",
          "height": 423
        },
        "outputId": "1e6382e5-76ec-4f1b-cfa3-067b006ac7ef"
      },
      "outputs": [
        {
          "output_type": "execute_result",
          "data": {
            "text/plain": [
              "            Price  Mileage    Make     Model           Trim   Type  Cylinder  \\\n",
              "0    17314.103129     8221   Buick   Century       Sedan 4D  Sedan         6   \n",
              "1    17542.036083     9135   Buick   Century       Sedan 4D  Sedan         6   \n",
              "2    16218.847862    13196   Buick   Century       Sedan 4D  Sedan         6   \n",
              "3    16336.913140    16342   Buick   Century       Sedan 4D  Sedan         6   \n",
              "4    16339.170324    19832   Buick   Century       Sedan 4D  Sedan         6   \n",
              "..            ...      ...     ...       ...            ...    ...       ...   \n",
              "799  16507.070267    16229  Saturn  L Series  L300 Sedan 4D  Sedan         6   \n",
              "800  16175.957604    19095  Saturn  L Series  L300 Sedan 4D  Sedan         6   \n",
              "801  15731.132897    20484  Saturn  L Series  L300 Sedan 4D  Sedan         6   \n",
              "802  15118.893228    25979  Saturn  L Series  L300 Sedan 4D  Sedan         6   \n",
              "803  13585.636802    35662  Saturn  L Series  L300 Sedan 4D  Sedan         6   \n",
              "\n",
              "     Liter  Doors  Cruise  Sound  Leather  \n",
              "0      3.1      4       1      1        1  \n",
              "1      3.1      4       1      1        0  \n",
              "2      3.1      4       1      1        0  \n",
              "3      3.1      4       1      0        0  \n",
              "4      3.1      4       1      0        1  \n",
              "..     ...    ...     ...    ...      ...  \n",
              "799    3.0      4       1      0        0  \n",
              "800    3.0      4       1      1        0  \n",
              "801    3.0      4       1      1        0  \n",
              "802    3.0      4       1      1        0  \n",
              "803    3.0      4       1      0        0  \n",
              "\n",
              "[804 rows x 12 columns]"
            ],
            "text/html": [
              "\n",
              "  <div id=\"df-80c80b45-1121-4bcd-a3fa-4569a2508dbd\">\n",
              "    <div class=\"colab-df-container\">\n",
              "      <div>\n",
              "<style scoped>\n",
              "    .dataframe tbody tr th:only-of-type {\n",
              "        vertical-align: middle;\n",
              "    }\n",
              "\n",
              "    .dataframe tbody tr th {\n",
              "        vertical-align: top;\n",
              "    }\n",
              "\n",
              "    .dataframe thead th {\n",
              "        text-align: right;\n",
              "    }\n",
              "</style>\n",
              "<table border=\"1\" class=\"dataframe\">\n",
              "  <thead>\n",
              "    <tr style=\"text-align: right;\">\n",
              "      <th></th>\n",
              "      <th>Price</th>\n",
              "      <th>Mileage</th>\n",
              "      <th>Make</th>\n",
              "      <th>Model</th>\n",
              "      <th>Trim</th>\n",
              "      <th>Type</th>\n",
              "      <th>Cylinder</th>\n",
              "      <th>Liter</th>\n",
              "      <th>Doors</th>\n",
              "      <th>Cruise</th>\n",
              "      <th>Sound</th>\n",
              "      <th>Leather</th>\n",
              "    </tr>\n",
              "  </thead>\n",
              "  <tbody>\n",
              "    <tr>\n",
              "      <th>0</th>\n",
              "      <td>17314.103129</td>\n",
              "      <td>8221</td>\n",
              "      <td>Buick</td>\n",
              "      <td>Century</td>\n",
              "      <td>Sedan 4D</td>\n",
              "      <td>Sedan</td>\n",
              "      <td>6</td>\n",
              "      <td>3.1</td>\n",
              "      <td>4</td>\n",
              "      <td>1</td>\n",
              "      <td>1</td>\n",
              "      <td>1</td>\n",
              "    </tr>\n",
              "    <tr>\n",
              "      <th>1</th>\n",
              "      <td>17542.036083</td>\n",
              "      <td>9135</td>\n",
              "      <td>Buick</td>\n",
              "      <td>Century</td>\n",
              "      <td>Sedan 4D</td>\n",
              "      <td>Sedan</td>\n",
              "      <td>6</td>\n",
              "      <td>3.1</td>\n",
              "      <td>4</td>\n",
              "      <td>1</td>\n",
              "      <td>1</td>\n",
              "      <td>0</td>\n",
              "    </tr>\n",
              "    <tr>\n",
              "      <th>2</th>\n",
              "      <td>16218.847862</td>\n",
              "      <td>13196</td>\n",
              "      <td>Buick</td>\n",
              "      <td>Century</td>\n",
              "      <td>Sedan 4D</td>\n",
              "      <td>Sedan</td>\n",
              "      <td>6</td>\n",
              "      <td>3.1</td>\n",
              "      <td>4</td>\n",
              "      <td>1</td>\n",
              "      <td>1</td>\n",
              "      <td>0</td>\n",
              "    </tr>\n",
              "    <tr>\n",
              "      <th>3</th>\n",
              "      <td>16336.913140</td>\n",
              "      <td>16342</td>\n",
              "      <td>Buick</td>\n",
              "      <td>Century</td>\n",
              "      <td>Sedan 4D</td>\n",
              "      <td>Sedan</td>\n",
              "      <td>6</td>\n",
              "      <td>3.1</td>\n",
              "      <td>4</td>\n",
              "      <td>1</td>\n",
              "      <td>0</td>\n",
              "      <td>0</td>\n",
              "    </tr>\n",
              "    <tr>\n",
              "      <th>4</th>\n",
              "      <td>16339.170324</td>\n",
              "      <td>19832</td>\n",
              "      <td>Buick</td>\n",
              "      <td>Century</td>\n",
              "      <td>Sedan 4D</td>\n",
              "      <td>Sedan</td>\n",
              "      <td>6</td>\n",
              "      <td>3.1</td>\n",
              "      <td>4</td>\n",
              "      <td>1</td>\n",
              "      <td>0</td>\n",
              "      <td>1</td>\n",
              "    </tr>\n",
              "    <tr>\n",
              "      <th>...</th>\n",
              "      <td>...</td>\n",
              "      <td>...</td>\n",
              "      <td>...</td>\n",
              "      <td>...</td>\n",
              "      <td>...</td>\n",
              "      <td>...</td>\n",
              "      <td>...</td>\n",
              "      <td>...</td>\n",
              "      <td>...</td>\n",
              "      <td>...</td>\n",
              "      <td>...</td>\n",
              "      <td>...</td>\n",
              "    </tr>\n",
              "    <tr>\n",
              "      <th>799</th>\n",
              "      <td>16507.070267</td>\n",
              "      <td>16229</td>\n",
              "      <td>Saturn</td>\n",
              "      <td>L Series</td>\n",
              "      <td>L300 Sedan 4D</td>\n",
              "      <td>Sedan</td>\n",
              "      <td>6</td>\n",
              "      <td>3.0</td>\n",
              "      <td>4</td>\n",
              "      <td>1</td>\n",
              "      <td>0</td>\n",
              "      <td>0</td>\n",
              "    </tr>\n",
              "    <tr>\n",
              "      <th>800</th>\n",
              "      <td>16175.957604</td>\n",
              "      <td>19095</td>\n",
              "      <td>Saturn</td>\n",
              "      <td>L Series</td>\n",
              "      <td>L300 Sedan 4D</td>\n",
              "      <td>Sedan</td>\n",
              "      <td>6</td>\n",
              "      <td>3.0</td>\n",
              "      <td>4</td>\n",
              "      <td>1</td>\n",
              "      <td>1</td>\n",
              "      <td>0</td>\n",
              "    </tr>\n",
              "    <tr>\n",
              "      <th>801</th>\n",
              "      <td>15731.132897</td>\n",
              "      <td>20484</td>\n",
              "      <td>Saturn</td>\n",
              "      <td>L Series</td>\n",
              "      <td>L300 Sedan 4D</td>\n",
              "      <td>Sedan</td>\n",
              "      <td>6</td>\n",
              "      <td>3.0</td>\n",
              "      <td>4</td>\n",
              "      <td>1</td>\n",
              "      <td>1</td>\n",
              "      <td>0</td>\n",
              "    </tr>\n",
              "    <tr>\n",
              "      <th>802</th>\n",
              "      <td>15118.893228</td>\n",
              "      <td>25979</td>\n",
              "      <td>Saturn</td>\n",
              "      <td>L Series</td>\n",
              "      <td>L300 Sedan 4D</td>\n",
              "      <td>Sedan</td>\n",
              "      <td>6</td>\n",
              "      <td>3.0</td>\n",
              "      <td>4</td>\n",
              "      <td>1</td>\n",
              "      <td>1</td>\n",
              "      <td>0</td>\n",
              "    </tr>\n",
              "    <tr>\n",
              "      <th>803</th>\n",
              "      <td>13585.636802</td>\n",
              "      <td>35662</td>\n",
              "      <td>Saturn</td>\n",
              "      <td>L Series</td>\n",
              "      <td>L300 Sedan 4D</td>\n",
              "      <td>Sedan</td>\n",
              "      <td>6</td>\n",
              "      <td>3.0</td>\n",
              "      <td>4</td>\n",
              "      <td>1</td>\n",
              "      <td>0</td>\n",
              "      <td>0</td>\n",
              "    </tr>\n",
              "  </tbody>\n",
              "</table>\n",
              "<p>804 rows × 12 columns</p>\n",
              "</div>\n",
              "      <button class=\"colab-df-convert\" onclick=\"convertToInteractive('df-80c80b45-1121-4bcd-a3fa-4569a2508dbd')\"\n",
              "              title=\"Convert this dataframe to an interactive table.\"\n",
              "              style=\"display:none;\">\n",
              "        \n",
              "  <svg xmlns=\"http://www.w3.org/2000/svg\" height=\"24px\"viewBox=\"0 0 24 24\"\n",
              "       width=\"24px\">\n",
              "    <path d=\"M0 0h24v24H0V0z\" fill=\"none\"/>\n",
              "    <path d=\"M18.56 5.44l.94 2.06.94-2.06 2.06-.94-2.06-.94-.94-2.06-.94 2.06-2.06.94zm-11 1L8.5 8.5l.94-2.06 2.06-.94-2.06-.94L8.5 2.5l-.94 2.06-2.06.94zm10 10l.94 2.06.94-2.06 2.06-.94-2.06-.94-.94-2.06-.94 2.06-2.06.94z\"/><path d=\"M17.41 7.96l-1.37-1.37c-.4-.4-.92-.59-1.43-.59-.52 0-1.04.2-1.43.59L10.3 9.45l-7.72 7.72c-.78.78-.78 2.05 0 2.83L4 21.41c.39.39.9.59 1.41.59.51 0 1.02-.2 1.41-.59l7.78-7.78 2.81-2.81c.8-.78.8-2.07 0-2.86zM5.41 20L4 18.59l7.72-7.72 1.47 1.35L5.41 20z\"/>\n",
              "  </svg>\n",
              "      </button>\n",
              "      \n",
              "  <style>\n",
              "    .colab-df-container {\n",
              "      display:flex;\n",
              "      flex-wrap:wrap;\n",
              "      gap: 12px;\n",
              "    }\n",
              "\n",
              "    .colab-df-convert {\n",
              "      background-color: #E8F0FE;\n",
              "      border: none;\n",
              "      border-radius: 50%;\n",
              "      cursor: pointer;\n",
              "      display: none;\n",
              "      fill: #1967D2;\n",
              "      height: 32px;\n",
              "      padding: 0 0 0 0;\n",
              "      width: 32px;\n",
              "    }\n",
              "\n",
              "    .colab-df-convert:hover {\n",
              "      background-color: #E2EBFA;\n",
              "      box-shadow: 0px 1px 2px rgba(60, 64, 67, 0.3), 0px 1px 3px 1px rgba(60, 64, 67, 0.15);\n",
              "      fill: #174EA6;\n",
              "    }\n",
              "\n",
              "    [theme=dark] .colab-df-convert {\n",
              "      background-color: #3B4455;\n",
              "      fill: #D2E3FC;\n",
              "    }\n",
              "\n",
              "    [theme=dark] .colab-df-convert:hover {\n",
              "      background-color: #434B5C;\n",
              "      box-shadow: 0px 1px 3px 1px rgba(0, 0, 0, 0.15);\n",
              "      filter: drop-shadow(0px 1px 2px rgba(0, 0, 0, 0.3));\n",
              "      fill: #FFFFFF;\n",
              "    }\n",
              "  </style>\n",
              "\n",
              "      <script>\n",
              "        const buttonEl =\n",
              "          document.querySelector('#df-80c80b45-1121-4bcd-a3fa-4569a2508dbd button.colab-df-convert');\n",
              "        buttonEl.style.display =\n",
              "          google.colab.kernel.accessAllowed ? 'block' : 'none';\n",
              "\n",
              "        async function convertToInteractive(key) {\n",
              "          const element = document.querySelector('#df-80c80b45-1121-4bcd-a3fa-4569a2508dbd');\n",
              "          const dataTable =\n",
              "            await google.colab.kernel.invokeFunction('convertToInteractive',\n",
              "                                                     [key], {});\n",
              "          if (!dataTable) return;\n",
              "\n",
              "          const docLinkHtml = 'Like what you see? Visit the ' +\n",
              "            '<a target=\"_blank\" href=https://colab.research.google.com/notebooks/data_table.ipynb>data table notebook</a>'\n",
              "            + ' to learn more about interactive tables.';\n",
              "          element.innerHTML = '';\n",
              "          dataTable['output_type'] = 'display_data';\n",
              "          await google.colab.output.renderOutput(dataTable, element);\n",
              "          const docLink = document.createElement('div');\n",
              "          docLink.innerHTML = docLinkHtml;\n",
              "          element.appendChild(docLink);\n",
              "        }\n",
              "      </script>\n",
              "    </div>\n",
              "  </div>\n",
              "  "
            ]
          },
          "metadata": {},
          "execution_count": 66
        }
      ],
      "source": [
        "df = pd.read_csv(\"https://raw.githubusercontent.com/Vsekar05/Datasets/main/car_data.csv\")\n",
        "df"
      ]
    },
    {
      "cell_type": "markdown",
      "source": [
        "# Descriptive Analysis"
      ],
      "metadata": {
        "id": "kQE8Bo1NqK4R"
      }
    },
    {
      "cell_type": "code",
      "source": [
        "df.info()"
      ],
      "metadata": {
        "colab": {
          "base_uri": "https://localhost:8080/"
        },
        "id": "wAJhiYABqNxx",
        "outputId": "ed758517-7533-4ffc-96e5-593e488cbd17"
      },
      "execution_count": 67,
      "outputs": [
        {
          "output_type": "stream",
          "name": "stdout",
          "text": [
            "<class 'pandas.core.frame.DataFrame'>\n",
            "RangeIndex: 804 entries, 0 to 803\n",
            "Data columns (total 12 columns):\n",
            " #   Column    Non-Null Count  Dtype  \n",
            "---  ------    --------------  -----  \n",
            " 0   Price     804 non-null    float64\n",
            " 1   Mileage   804 non-null    int64  \n",
            " 2   Make      804 non-null    object \n",
            " 3   Model     804 non-null    object \n",
            " 4   Trim      804 non-null    object \n",
            " 5   Type      804 non-null    object \n",
            " 6   Cylinder  804 non-null    int64  \n",
            " 7   Liter     804 non-null    float64\n",
            " 8   Doors     804 non-null    int64  \n",
            " 9   Cruise    804 non-null    int64  \n",
            " 10  Sound     804 non-null    int64  \n",
            " 11  Leather   804 non-null    int64  \n",
            "dtypes: float64(2), int64(6), object(4)\n",
            "memory usage: 75.5+ KB\n"
          ]
        }
      ]
    },
    {
      "cell_type": "code",
      "source": [
        "df.isna().sum()"
      ],
      "metadata": {
        "colab": {
          "base_uri": "https://localhost:8080/"
        },
        "id": "1pTTbuAbqRNe",
        "outputId": "f6ee3957-64e2-4bfb-e7e1-a4058437468e"
      },
      "execution_count": 68,
      "outputs": [
        {
          "output_type": "execute_result",
          "data": {
            "text/plain": [
              "Price       0\n",
              "Mileage     0\n",
              "Make        0\n",
              "Model       0\n",
              "Trim        0\n",
              "Type        0\n",
              "Cylinder    0\n",
              "Liter       0\n",
              "Doors       0\n",
              "Cruise      0\n",
              "Sound       0\n",
              "Leather     0\n",
              "dtype: int64"
            ]
          },
          "metadata": {},
          "execution_count": 68
        }
      ]
    },
    {
      "cell_type": "code",
      "source": [
        "df.isnull().sum()"
      ],
      "metadata": {
        "colab": {
          "base_uri": "https://localhost:8080/"
        },
        "id": "AAOQqNXkqYG2",
        "outputId": "0850ecb7-0fa0-4e93-a972-3c93bbafad7e"
      },
      "execution_count": 69,
      "outputs": [
        {
          "output_type": "execute_result",
          "data": {
            "text/plain": [
              "Price       0\n",
              "Mileage     0\n",
              "Make        0\n",
              "Model       0\n",
              "Trim        0\n",
              "Type        0\n",
              "Cylinder    0\n",
              "Liter       0\n",
              "Doors       0\n",
              "Cruise      0\n",
              "Sound       0\n",
              "Leather     0\n",
              "dtype: int64"
            ]
          },
          "metadata": {},
          "execution_count": 69
        }
      ]
    },
    {
      "cell_type": "code",
      "source": [
        "df.describe()"
      ],
      "metadata": {
        "colab": {
          "base_uri": "https://localhost:8080/",
          "height": 0
        },
        "id": "NiGiF3Unqbba",
        "outputId": "10ad409b-9f9b-4384-c0eb-1b4907778fbd"
      },
      "execution_count": 70,
      "outputs": [
        {
          "output_type": "execute_result",
          "data": {
            "text/plain": [
              "              Price       Mileage    Cylinder       Liter       Doors  \\\n",
              "count    804.000000    804.000000  804.000000  804.000000  804.000000   \n",
              "mean   21343.143767  19831.934080    5.268657    3.037313    3.527363   \n",
              "std     9884.852801   8196.319707    1.387531    1.105562    0.850169   \n",
              "min     8638.930895    266.000000    4.000000    1.600000    2.000000   \n",
              "25%    14273.073870  14623.500000    4.000000    2.200000    4.000000   \n",
              "50%    18024.995019  20913.500000    6.000000    2.800000    4.000000   \n",
              "75%    26717.316636  25213.000000    6.000000    3.800000    4.000000   \n",
              "max    70755.466717  50387.000000    8.000000    6.000000    4.000000   \n",
              "\n",
              "           Cruise       Sound     Leather  \n",
              "count  804.000000  804.000000  804.000000  \n",
              "mean     0.752488    0.679104    0.723881  \n",
              "std      0.431836    0.467111    0.447355  \n",
              "min      0.000000    0.000000    0.000000  \n",
              "25%      1.000000    0.000000    0.000000  \n",
              "50%      1.000000    1.000000    1.000000  \n",
              "75%      1.000000    1.000000    1.000000  \n",
              "max      1.000000    1.000000    1.000000  "
            ],
            "text/html": [
              "\n",
              "  <div id=\"df-1567fe04-3a3f-4be4-8de3-493eba8feb7c\">\n",
              "    <div class=\"colab-df-container\">\n",
              "      <div>\n",
              "<style scoped>\n",
              "    .dataframe tbody tr th:only-of-type {\n",
              "        vertical-align: middle;\n",
              "    }\n",
              "\n",
              "    .dataframe tbody tr th {\n",
              "        vertical-align: top;\n",
              "    }\n",
              "\n",
              "    .dataframe thead th {\n",
              "        text-align: right;\n",
              "    }\n",
              "</style>\n",
              "<table border=\"1\" class=\"dataframe\">\n",
              "  <thead>\n",
              "    <tr style=\"text-align: right;\">\n",
              "      <th></th>\n",
              "      <th>Price</th>\n",
              "      <th>Mileage</th>\n",
              "      <th>Cylinder</th>\n",
              "      <th>Liter</th>\n",
              "      <th>Doors</th>\n",
              "      <th>Cruise</th>\n",
              "      <th>Sound</th>\n",
              "      <th>Leather</th>\n",
              "    </tr>\n",
              "  </thead>\n",
              "  <tbody>\n",
              "    <tr>\n",
              "      <th>count</th>\n",
              "      <td>804.000000</td>\n",
              "      <td>804.000000</td>\n",
              "      <td>804.000000</td>\n",
              "      <td>804.000000</td>\n",
              "      <td>804.000000</td>\n",
              "      <td>804.000000</td>\n",
              "      <td>804.000000</td>\n",
              "      <td>804.000000</td>\n",
              "    </tr>\n",
              "    <tr>\n",
              "      <th>mean</th>\n",
              "      <td>21343.143767</td>\n",
              "      <td>19831.934080</td>\n",
              "      <td>5.268657</td>\n",
              "      <td>3.037313</td>\n",
              "      <td>3.527363</td>\n",
              "      <td>0.752488</td>\n",
              "      <td>0.679104</td>\n",
              "      <td>0.723881</td>\n",
              "    </tr>\n",
              "    <tr>\n",
              "      <th>std</th>\n",
              "      <td>9884.852801</td>\n",
              "      <td>8196.319707</td>\n",
              "      <td>1.387531</td>\n",
              "      <td>1.105562</td>\n",
              "      <td>0.850169</td>\n",
              "      <td>0.431836</td>\n",
              "      <td>0.467111</td>\n",
              "      <td>0.447355</td>\n",
              "    </tr>\n",
              "    <tr>\n",
              "      <th>min</th>\n",
              "      <td>8638.930895</td>\n",
              "      <td>266.000000</td>\n",
              "      <td>4.000000</td>\n",
              "      <td>1.600000</td>\n",
              "      <td>2.000000</td>\n",
              "      <td>0.000000</td>\n",
              "      <td>0.000000</td>\n",
              "      <td>0.000000</td>\n",
              "    </tr>\n",
              "    <tr>\n",
              "      <th>25%</th>\n",
              "      <td>14273.073870</td>\n",
              "      <td>14623.500000</td>\n",
              "      <td>4.000000</td>\n",
              "      <td>2.200000</td>\n",
              "      <td>4.000000</td>\n",
              "      <td>1.000000</td>\n",
              "      <td>0.000000</td>\n",
              "      <td>0.000000</td>\n",
              "    </tr>\n",
              "    <tr>\n",
              "      <th>50%</th>\n",
              "      <td>18024.995019</td>\n",
              "      <td>20913.500000</td>\n",
              "      <td>6.000000</td>\n",
              "      <td>2.800000</td>\n",
              "      <td>4.000000</td>\n",
              "      <td>1.000000</td>\n",
              "      <td>1.000000</td>\n",
              "      <td>1.000000</td>\n",
              "    </tr>\n",
              "    <tr>\n",
              "      <th>75%</th>\n",
              "      <td>26717.316636</td>\n",
              "      <td>25213.000000</td>\n",
              "      <td>6.000000</td>\n",
              "      <td>3.800000</td>\n",
              "      <td>4.000000</td>\n",
              "      <td>1.000000</td>\n",
              "      <td>1.000000</td>\n",
              "      <td>1.000000</td>\n",
              "    </tr>\n",
              "    <tr>\n",
              "      <th>max</th>\n",
              "      <td>70755.466717</td>\n",
              "      <td>50387.000000</td>\n",
              "      <td>8.000000</td>\n",
              "      <td>6.000000</td>\n",
              "      <td>4.000000</td>\n",
              "      <td>1.000000</td>\n",
              "      <td>1.000000</td>\n",
              "      <td>1.000000</td>\n",
              "    </tr>\n",
              "  </tbody>\n",
              "</table>\n",
              "</div>\n",
              "      <button class=\"colab-df-convert\" onclick=\"convertToInteractive('df-1567fe04-3a3f-4be4-8de3-493eba8feb7c')\"\n",
              "              title=\"Convert this dataframe to an interactive table.\"\n",
              "              style=\"display:none;\">\n",
              "        \n",
              "  <svg xmlns=\"http://www.w3.org/2000/svg\" height=\"24px\"viewBox=\"0 0 24 24\"\n",
              "       width=\"24px\">\n",
              "    <path d=\"M0 0h24v24H0V0z\" fill=\"none\"/>\n",
              "    <path d=\"M18.56 5.44l.94 2.06.94-2.06 2.06-.94-2.06-.94-.94-2.06-.94 2.06-2.06.94zm-11 1L8.5 8.5l.94-2.06 2.06-.94-2.06-.94L8.5 2.5l-.94 2.06-2.06.94zm10 10l.94 2.06.94-2.06 2.06-.94-2.06-.94-.94-2.06-.94 2.06-2.06.94z\"/><path d=\"M17.41 7.96l-1.37-1.37c-.4-.4-.92-.59-1.43-.59-.52 0-1.04.2-1.43.59L10.3 9.45l-7.72 7.72c-.78.78-.78 2.05 0 2.83L4 21.41c.39.39.9.59 1.41.59.51 0 1.02-.2 1.41-.59l7.78-7.78 2.81-2.81c.8-.78.8-2.07 0-2.86zM5.41 20L4 18.59l7.72-7.72 1.47 1.35L5.41 20z\"/>\n",
              "  </svg>\n",
              "      </button>\n",
              "      \n",
              "  <style>\n",
              "    .colab-df-container {\n",
              "      display:flex;\n",
              "      flex-wrap:wrap;\n",
              "      gap: 12px;\n",
              "    }\n",
              "\n",
              "    .colab-df-convert {\n",
              "      background-color: #E8F0FE;\n",
              "      border: none;\n",
              "      border-radius: 50%;\n",
              "      cursor: pointer;\n",
              "      display: none;\n",
              "      fill: #1967D2;\n",
              "      height: 32px;\n",
              "      padding: 0 0 0 0;\n",
              "      width: 32px;\n",
              "    }\n",
              "\n",
              "    .colab-df-convert:hover {\n",
              "      background-color: #E2EBFA;\n",
              "      box-shadow: 0px 1px 2px rgba(60, 64, 67, 0.3), 0px 1px 3px 1px rgba(60, 64, 67, 0.15);\n",
              "      fill: #174EA6;\n",
              "    }\n",
              "\n",
              "    [theme=dark] .colab-df-convert {\n",
              "      background-color: #3B4455;\n",
              "      fill: #D2E3FC;\n",
              "    }\n",
              "\n",
              "    [theme=dark] .colab-df-convert:hover {\n",
              "      background-color: #434B5C;\n",
              "      box-shadow: 0px 1px 3px 1px rgba(0, 0, 0, 0.15);\n",
              "      filter: drop-shadow(0px 1px 2px rgba(0, 0, 0, 0.3));\n",
              "      fill: #FFFFFF;\n",
              "    }\n",
              "  </style>\n",
              "\n",
              "      <script>\n",
              "        const buttonEl =\n",
              "          document.querySelector('#df-1567fe04-3a3f-4be4-8de3-493eba8feb7c button.colab-df-convert');\n",
              "        buttonEl.style.display =\n",
              "          google.colab.kernel.accessAllowed ? 'block' : 'none';\n",
              "\n",
              "        async function convertToInteractive(key) {\n",
              "          const element = document.querySelector('#df-1567fe04-3a3f-4be4-8de3-493eba8feb7c');\n",
              "          const dataTable =\n",
              "            await google.colab.kernel.invokeFunction('convertToInteractive',\n",
              "                                                     [key], {});\n",
              "          if (!dataTable) return;\n",
              "\n",
              "          const docLinkHtml = 'Like what you see? Visit the ' +\n",
              "            '<a target=\"_blank\" href=https://colab.research.google.com/notebooks/data_table.ipynb>data table notebook</a>'\n",
              "            + ' to learn more about interactive tables.';\n",
              "          element.innerHTML = '';\n",
              "          dataTable['output_type'] = 'display_data';\n",
              "          await google.colab.output.renderOutput(dataTable, element);\n",
              "          const docLink = document.createElement('div');\n",
              "          docLink.innerHTML = docLinkHtml;\n",
              "          element.appendChild(docLink);\n",
              "        }\n",
              "      </script>\n",
              "    </div>\n",
              "  </div>\n",
              "  "
            ]
          },
          "metadata": {},
          "execution_count": 70
        }
      ]
    },
    {
      "cell_type": "markdown",
      "source": [
        "# Explratory Data Analysis"
      ],
      "metadata": {
        "id": "KQI4UEfWqhWe"
      }
    },
    {
      "cell_type": "code",
      "source": [
        "import seaborn as sns\n",
        "sns.distplot(df[\"Price\"])\n",
        "plt.show()"
      ],
      "metadata": {
        "colab": {
          "base_uri": "https://localhost:8080/",
          "height": 0
        },
        "id": "Yn5hgyGvqkve",
        "outputId": "4b62156f-86e6-4793-dee7-5451623e850d"
      },
      "execution_count": 71,
      "outputs": [
        {
          "output_type": "stream",
          "name": "stderr",
          "text": [
            "/usr/local/lib/python3.7/dist-packages/seaborn/distributions.py:2619: FutureWarning: `distplot` is a deprecated function and will be removed in a future version. Please adapt your code to use either `displot` (a figure-level function with similar flexibility) or `histplot` (an axes-level function for histograms).\n",
            "  warnings.warn(msg, FutureWarning)\n"
          ]
        },
        {
          "output_type": "display_data",
          "data": {
            "text/plain": [
              "<Figure size 432x288 with 1 Axes>"
            ],
            "image/png": "[encoded data removed]"
          },
          "metadata": {
            "needs_background": "light"
          }
        }
      ]
    },
    {
      "cell_type": "code",
      "source": [
        "sns.distplot(df[\"Mileage\"])\n",
        "plt.show()"
      ],
      "metadata": {
        "colab": {
          "base_uri": "https://localhost:8080/",
          "height": 0
        },
        "id": "6owdzH3oq1SH",
        "outputId": "6427f92e-9210-4942-f146-f7cab6fc6bcb"
      },
      "execution_count": 72,
      "outputs": [
        {
          "output_type": "stream",
          "name": "stderr",
          "text": [
            "/usr/local/lib/python3.7/dist-packages/seaborn/distributions.py:2619: FutureWarning: `distplot` is a deprecated function and will be removed in a future version. Please adapt your code to use either `displot` (a figure-level function with similar flexibility) or `histplot` (an axes-level function for histograms).\n",
            "  warnings.warn(msg, FutureWarning)\n"
          ]
        },
        {
          "output_type": "display_data",
          "data": {
            "text/plain": [
              "<Figure size 432x288 with 1 Axes>"
            ],
            "image/png": "[encoded data removed]"
          },
          "metadata": {
            "needs_background": "light"
          }
        }
      ]
    },
    {
      "cell_type": "code",
      "source": [
        "sns.countplot(df[\"Cylinder\"])\n",
        "plt.show()"
      ],
      "metadata": {
        "colab": {
          "base_uri": "https://localhost:8080/",
          "height": 0
        },
        "id": "JQluon3pq9a-",
        "outputId": "528b10a0-ef0c-4ab8-b256-16dac4b02fd9"
      },
      "execution_count": 73,
      "outputs": [
        {
          "output_type": "stream",
          "name": "stderr",
          "text": [
            "/usr/local/lib/python3.7/dist-packages/seaborn/_decorators.py:43: FutureWarning: Pass the following variable as a keyword arg: x. From version 0.12, the only valid positional argument will be `data`, and passing other arguments without an explicit keyword will result in an error or misinterpretation.\n",
            "  FutureWarning\n"
          ]
        },
        {
          "output_type": "display_data",
          "data": {
            "text/plain": [
              "<Figure size 432x288 with 1 Axes>"
            ],
            "image/png": "[encoded data removed]"
          },
          "metadata": {
            "needs_background": "light"
          }
        }
      ]
    },
    {
      "cell_type": "code",
      "source": [
        "sns.countplot(df[\"Liter\"])\n",
        "plt.show()"
      ],
      "metadata": {
        "colab": {
          "base_uri": "https://localhost:8080/",
          "height": 0
        },
        "id": "-n0oDOX9rKoV",
        "outputId": "87c58ba5-f2c7-43dc-f6e9-9d9287445790"
      },
      "execution_count": 74,
      "outputs": [
        {
          "output_type": "stream",
          "name": "stderr",
          "text": [
            "/usr/local/lib/python3.7/dist-packages/seaborn/_decorators.py:43: FutureWarning: Pass the following variable as a keyword arg: x. From version 0.12, the only valid positional argument will be `data`, and passing other arguments without an explicit keyword will result in an error or misinterpretation.\n",
            "  FutureWarning\n"
          ]
        },
        {
          "output_type": "display_data",
          "data": {
            "text/plain": [
              "<Figure size 432x288 with 1 Axes>"
            ],
            "image/png": "[encoded data removed]"
          },
          "metadata": {
            "needs_background": "light"
          }
        }
      ]
    },
    {
      "cell_type": "code",
      "source": [
        "sns.countplot(df[\"Doors\"])\n",
        "plt.show()"
      ],
      "metadata": {
        "colab": {
          "base_uri": "https://localhost:8080/",
          "height": 0
        },
        "id": "Ysdj1Fv6rWpG",
        "outputId": "eaf7271c-2afa-40c7-b698-63ca5d118ab4"
      },
      "execution_count": 75,
      "outputs": [
        {
          "output_type": "stream",
          "name": "stderr",
          "text": [
            "/usr/local/lib/python3.7/dist-packages/seaborn/_decorators.py:43: FutureWarning: Pass the following variable as a keyword arg: x. From version 0.12, the only valid positional argument will be `data`, and passing other arguments without an explicit keyword will result in an error or misinterpretation.\n",
            "  FutureWarning\n"
          ]
        },
        {
          "output_type": "display_data",
          "data": {
            "text/plain": [
              "<Figure size 432x288 with 1 Axes>"
            ],
            "image/png": "[encoded data removed]"
          },
          "metadata": {
            "needs_background": "light"
          }
        }
      ]
    },
    {
      "cell_type": "code",
      "source": [
        "sns.countplot(df[\"Cruise\"])\n",
        "plt.show()"
      ],
      "metadata": {
        "colab": {
          "base_uri": "https://localhost:8080/",
          "height": 0
        },
        "id": "e1oS3rFYronl",
        "outputId": "7204bd7f-b77a-4f3a-dc06-4b72f9a0953a"
      },
      "execution_count": 76,
      "outputs": [
        {
          "output_type": "stream",
          "name": "stderr",
          "text": [
            "/usr/local/lib/python3.7/dist-packages/seaborn/_decorators.py:43: FutureWarning: Pass the following variable as a keyword arg: x. From version 0.12, the only valid positional argument will be `data`, and passing other arguments without an explicit keyword will result in an error or misinterpretation.\n",
            "  FutureWarning\n"
          ]
        },
        {
          "output_type": "display_data",
          "data": {
            "text/plain": [
              "<Figure size 432x288 with 1 Axes>"
            ],
            "image/png": "[encoded data removed]"
          },
          "metadata": {
            "needs_background": "light"
          }
        }
      ]
    },
    {
      "cell_type": "code",
      "source": [
        "sns.countplot(df[\"Sound\"])\n",
        "plt.show()"
      ],
      "metadata": {
        "colab": {
          "base_uri": "https://localhost:8080/",
          "height": 0
        },
        "id": "K8YtAZcLZsTZ",
        "outputId": "18c2f3e7-77f4-43d6-bcba-c9e8f3be06b2"
      },
      "execution_count": 77,
      "outputs": [
        {
          "output_type": "stream",
          "name": "stderr",
          "text": [
            "/usr/local/lib/python3.7/dist-packages/seaborn/_decorators.py:43: FutureWarning: Pass the following variable as a keyword arg: x. From version 0.12, the only valid positional argument will be `data`, and passing other arguments without an explicit keyword will result in an error or misinterpretation.\n",
            "  FutureWarning\n"
          ]
        },
        {
          "output_type": "display_data",
          "data": {
            "text/plain": [
              "<Figure size 432x288 with 1 Axes>"
            ],
            "image/png": "[encoded data removed]"
          },
          "metadata": {
            "needs_background": "light"
          }
        }
      ]
    },
    {
      "cell_type": "code",
      "source": [
        "sns.countplot(df[\"Leather\"])\n",
        "plt.show()"
      ],
      "metadata": {
        "colab": {
          "base_uri": "https://localhost:8080/",
          "height": 0
        },
        "id": "fNCdF0bbZ1j9",
        "outputId": "bd753771-da6f-4387-d292-786ec33d6a51"
      },
      "execution_count": 78,
      "outputs": [
        {
          "output_type": "stream",
          "name": "stderr",
          "text": [
            "/usr/local/lib/python3.7/dist-packages/seaborn/_decorators.py:43: FutureWarning: Pass the following variable as a keyword arg: x. From version 0.12, the only valid positional argument will be `data`, and passing other arguments without an explicit keyword will result in an error or misinterpretation.\n",
            "  FutureWarning\n"
          ]
        },
        {
          "output_type": "display_data",
          "data": {
            "text/plain": [
              "<Figure size 432x288 with 1 Axes>"
            ],
            "image/png": "[encoded data removed]"
          },
          "metadata": {
            "needs_background": "light"
          }
        }
      ]
    },
    {
      "cell_type": "code",
      "source": [
        "sns.countplot(df[\"Make\"])\n",
        "plt.show()"
      ],
      "metadata": {
        "colab": {
          "base_uri": "https://localhost:8080/",
          "height": 0
        },
        "id": "Ge4p1wJ9Z_fW",
        "outputId": "9e4e8716-7f41-414e-ed09-ecbe01126382"
      },
      "execution_count": 79,
      "outputs": [
        {
          "output_type": "stream",
          "name": "stderr",
          "text": [
            "/usr/local/lib/python3.7/dist-packages/seaborn/_decorators.py:43: FutureWarning: Pass the following variable as a keyword arg: x. From version 0.12, the only valid positional argument will be `data`, and passing other arguments without an explicit keyword will result in an error or misinterpretation.\n",
            "  FutureWarning\n"
          ]
        },
        {
          "output_type": "display_data",
          "data": {
            "text/plain": [
              "<Figure size 432x288 with 1 Axes>"
            ],
            "image/png": "[encoded data removed]"
          },
          "metadata": {
            "needs_background": "light"
          }
        }
      ]
    },
    {
      "cell_type": "code",
      "source": [
        "sns.countplot(df[\"Model\"])\n",
        "plt.show()"
      ],
      "metadata": {
        "colab": {
          "base_uri": "https://localhost:8080/",
          "height": 0
        },
        "id": "yT-ohADLaInY",
        "outputId": "f1938c9c-132b-4142-bfb0-57e9fc4b0f89"
      },
      "execution_count": 80,
      "outputs": [
        {
          "output_type": "stream",
          "name": "stderr",
          "text": [
            "/usr/local/lib/python3.7/dist-packages/seaborn/_decorators.py:43: FutureWarning: Pass the following variable as a keyword arg: x. From version 0.12, the only valid positional argument will be `data`, and passing other arguments without an explicit keyword will result in an error or misinterpretation.\n",
            "  FutureWarning\n"
          ]
        },
        {
          "output_type": "display_data",
          "data": {
            "text/plain": [
              "<Figure size 432x288 with 1 Axes>"
            ],
            "image/png": "[encoded data removed]"
          },
          "metadata": {
            "needs_background": "light"
          }
        }
      ]
    },
    {
      "cell_type": "code",
      "source": [
        "sns.countplot(df[\"Type\"])\n",
        "plt.show()"
      ],
      "metadata": {
        "colab": {
          "base_uri": "https://localhost:8080/",
          "height": 0
        },
        "id": "jBWcVrsVaSBX",
        "outputId": "9875c8d5-51f8-45a9-9675-dcdd7d26e86d"
      },
      "execution_count": 81,
      "outputs": [
        {
          "output_type": "stream",
          "name": "stderr",
          "text": [
            "/usr/local/lib/python3.7/dist-packages/seaborn/_decorators.py:43: FutureWarning: Pass the following variable as a keyword arg: x. From version 0.12, the only valid positional argument will be `data`, and passing other arguments without an explicit keyword will result in an error or misinterpretation.\n",
            "  FutureWarning\n"
          ]
        },
        {
          "output_type": "display_data",
          "data": {
            "text/plain": [
              "<Figure size 432x288 with 1 Axes>"
            ],
            "image/png": "[encoded data removed]"
          },
          "metadata": {
            "needs_background": "light"
          }
        }
      ]
    },
    {
      "cell_type": "code",
      "source": [
        "sns.countplot(df[\"Trim\"])\n",
        "plt.show()"
      ],
      "metadata": {
        "colab": {
          "base_uri": "https://localhost:8080/",
          "height": 0
        },
        "id": "xROoC2P4aW-3",
        "outputId": "5b0bc577-5789-44f0-a7f7-0f9d09e12949"
      },
      "execution_count": 82,
      "outputs": [
        {
          "output_type": "stream",
          "name": "stderr",
          "text": [
            "/usr/local/lib/python3.7/dist-packages/seaborn/_decorators.py:43: FutureWarning: Pass the following variable as a keyword arg: x. From version 0.12, the only valid positional argument will be `data`, and passing other arguments without an explicit keyword will result in an error or misinterpretation.\n",
            "  FutureWarning\n"
          ]
        },
        {
          "output_type": "display_data",
          "data": {
            "text/plain": [
              "<Figure size 432x288 with 1 Axes>"
            ],
            "image/png": "[encoded data removed]"
          },
          "metadata": {
            "needs_background": "light"
          }
        }
      ]
    },
    {
      "cell_type": "markdown",
      "source": [
        "# Task Part 1"
      ],
      "metadata": {
        "id": "ecZ8agf1aeoP"
      }
    },
    {
      "cell_type": "markdown",
      "source": [
        "Find the linear regression equation for mileage vs price."
      ],
      "metadata": {
        "id": "F_uovwtDauTW"
      }
    },
    {
      "cell_type": "code",
      "source": [
        "X=df[[\"Mileage\"]]\n",
        "y=df[\"Price\"]"
      ],
      "metadata": {
        "id": "Cx8_T7mPah8u"
      },
      "execution_count": 83,
      "outputs": []
    },
    {
      "cell_type": "code",
      "source": [
        "from sklearn.linear_model import LinearRegression\n",
        "from sklearn.model_selection import train_test_split\n",
        "X_train,X_test,y_train,y_test = train_test_split(X,y,test_size=0.3,random_state=0)"
      ],
      "metadata": {
        "id": "tCn7fkbtbCAe"
      },
      "execution_count": 84,
      "outputs": []
    },
    {
      "cell_type": "code",
      "source": [
        "model = LinearRegression()\n",
        "model.fit(X_train,y_train)"
      ],
      "metadata": {
        "colab": {
          "base_uri": "https://localhost:8080/"
        },
        "id": "UdMbqcDSbL3f",
        "outputId": "06d8bf92-abaf-48bb-f80b-0ce08d92702c"
      },
      "execution_count": 85,
      "outputs": [
        {
          "output_type": "execute_result",
          "data": {
            "text/plain": [
              "LinearRegression()"
            ]
          },
          "metadata": {},
          "execution_count": 85
        }
      ]
    },
    {
      "cell_type": "code",
      "source": [
        "print(model.intercept_)\n",
        "print(model.coef_)"
      ],
      "metadata": {
        "colab": {
          "base_uri": "https://localhost:8080/"
        },
        "id": "U5ByAT4dbpRy",
        "outputId": "8599a439-d809-4acf-eb28-192f98ac5a1e"
      },
      "execution_count": 86,
      "outputs": [
        {
          "output_type": "stream",
          "name": "stdout",
          "text": [
            "25581.391535102055\n",
            "[-0.20364911]\n"
          ]
        }
      ]
    },
    {
      "cell_type": "code",
      "source": [
        "y_pred = model.predict(X_test)\n",
        "y_pred"
      ],
      "metadata": {
        "colab": {
          "base_uri": "https://localhost:8080/"
        },
        "id": "aexPJwTPbt59",
        "outputId": "12a89f2a-ca3a-4dad-e0fa-509daec8cb8a"
      },
      "execution_count": 87,
      "outputs": [
        {
          "output_type": "execute_result",
          "data": {
            "text/plain": [
              "array([20689.53621701, 20971.38658794, 21210.87794359, 22765.12796598,\n",
              "       20944.09760694, 21466.05028086, 19902.22875022, 18602.54011777,\n",
              "       24276.20437663, 25462.66410284, 20238.45343404, 21070.15640724,\n",
              "       20824.35192912, 23967.67597203, 22031.58386474, 20696.05298859,\n",
              "       20935.34069513, 22421.57191412, 21911.43088869, 21164.64959518,\n",
              "       22624.20278051, 21119.43949233, 20189.37399806, 20741.26309144,\n",
              "       20979.73620153, 19800.81149247, 20886.26125915, 20300.56641319,\n",
              "       23228.42969566, 21569.70767884, 20476.92654413, 21709.20732053,\n",
              "       20821.90813977, 22508.93738315, 20952.65086964, 22021.60505826,\n",
              "       24372.53040658, 23671.16286503, 23142.69341953, 22275.14820263,\n",
              "       23309.48204221, 25391.59056277, 21262.40116891, 20348.22030538,\n",
              "       21602.29153676, 19592.07115272, 24972.07339215, 20126.03912425,\n",
              "       20219.71771574, 20522.3402961 , 22668.3946378 , 21566.44929305,\n",
              "       23502.13410212, 21863.36969827, 23881.9396959 , 24579.0306061 ,\n",
              "       22091.25305454, 23803.12748957, 25079.60012326, 23475.65971756,\n",
              "       22666.96909402, 18020.30730671, 20729.24779384, 22475.13163056,\n",
              "       24793.8804192 , 23542.04932806, 24394.93180889, 20541.68696173,\n",
              "       20241.1008725 , 22602.00502731, 21216.58011873, 22880.59701245,\n",
              "       21753.80647604, 20314.61820191, 22638.25456923, 20231.12206601,\n",
              "       23721.05689746, 21249.36762575, 23327.19951495, 20397.9106887 ,\n",
              "       21090.52131843, 21974.5621134 , 20919.65971351, 20745.13242457,\n",
              "       22305.08462209, 24137.31568228, 21695.56283003, 21467.67947376,\n",
              "       21409.84312597, 19198.21377021, 20768.14477422, 19943.16222172,\n",
              "       23665.05339167, 21999.20365594, 21167.29703364, 21225.13338143,\n",
              "       20143.9602461 , 20950.41072941, 21323.69955161, 19936.0345028 ,\n",
              "       20455.74703649, 20717.02884712, 21873.75580298, 21681.91833953,\n",
              "       23241.87053705, 21545.88073275, 24142.61055919, 20368.38156746,\n",
              "       21726.31384593, 23275.67628963, 18882.15034847, 21684.36212887,\n",
              "       23948.73660462, 21875.38499588, 21391.31105678, 21432.24452828,\n",
              "       21219.63485541, 22047.46849547, 22115.28364975, 22289.81093869,\n",
              "       20312.17441257, 22283.70146533, 19995.09274526, 19543.39901496,\n",
              "       21321.66306049, 21355.46881308, 24349.72170604, 21617.36157104,\n",
              "       23496.63557609, 21758.69405473, 20390.57932067, 21692.71174246,\n",
              "       24634.01586632, 22673.07856738, 19411.43439042, 21003.56314763,\n",
              "       23755.26994827, 20868.3401373 , 22894.03785384, 23524.12820621,\n",
              "       21508.40929615, 20858.1576817 , 21851.55804978, 21300.68720196,\n",
              "       21179.31233124, 22497.32938377, 22108.56322906, 21219.83850452,\n",
              "       20855.91754147, 22765.33161509, 21499.65238433, 21591.29448471,\n",
              "       21170.1481212 , 23586.64848357, 19913.8367496 , 24313.87946234,\n",
              "       21331.23456875, 20459.00542228, 20127.87196625, 23209.49032825,\n",
              "       20395.67054847, 20086.93849475, 20698.70042704, 25451.8706999 ,\n",
              "       22719.30691579, 24524.65629321, 22028.73277717, 20688.31432233,\n",
              "       21416.15624844, 24785.73445472, 21597.60760718, 20942.46841405,\n",
              "       20984.82742933, 20579.97299478, 23476.06701579, 21226.15162699,\n",
              "       20772.82870379, 21135.9350704 , 24801.82273457, 18955.66767788,\n",
              "       18234.9534707 , 22194.09585608, 19622.61851951, 19969.22930805,\n",
              "       24217.14613416, 22795.87898188, 20244.97020562, 21470.53056133,\n",
              "       23215.19250338, 21296.81786883, 19487.19186007, 17666.36515014,\n",
              "       25527.22087132, 21049.18054871, 22539.28110083, 22569.82846762,\n",
              "       21180.3305768 , 25257.18214888, 23718.00216078, 23826.95443567,\n",
              "       20853.27010301, 19779.02103749, 25401.97666748, 20328.46634152,\n",
              "       20279.59055466, 25405.23505327, 21023.11346238, 22683.26102297,\n",
              "       21189.29113773, 20480.18492992, 21079.7279155 , 22636.42172723,\n",
              "       22479.2046128 , 20417.46100344, 20182.44992826, 20441.28794954,\n",
              "       24842.34890784, 20393.22675912, 20980.9580962 , 25345.15856524,\n",
              "       20723.95291693, 21272.17632629, 20973.21942995, 21730.38682817,\n",
              "       20313.19265813, 17446.42410924, 23634.30237577, 20032.15688364,\n",
              "       25420.91603489, 19924.83380164, 24024.49407426, 21924.05713363,\n",
              "       20872.20947042, 21907.56155557, 20509.51040204, 20680.16835786,\n",
              "       21797.387386  , 21596.99665985, 25094.26285932, 21666.23735791,\n",
              "       23427.39487803, 24002.09267195])"
            ]
          },
          "metadata": {},
          "execution_count": 87
        }
      ]
    },
    {
      "cell_type": "markdown",
      "source": [
        "Chart the original data and the equation on the chart"
      ],
      "metadata": {
        "id": "v4KHbeL6b4Xg"
      }
    },
    {
      "cell_type": "code",
      "source": [
        "plt.scatter(X,y)\n",
        "plt.plot(X,model.predict(X))"
      ],
      "metadata": {
        "colab": {
          "base_uri": "https://localhost:8080/",
          "height": 282
        },
        "id": "ZhlK1Qifbyik",
        "outputId": "a941057f-871d-48cd-987b-297e3dfe977e"
      },
      "execution_count": 88,
      "outputs": [
        {
          "output_type": "execute_result",
          "data": {
            "text/plain": [
              "[<matplotlib.lines.Line2D at 0x7fa3c285be90>]"
            ]
          },
          "metadata": {},
          "execution_count": 88
        },
        {
          "output_type": "display_data",
          "data": {
            "text/plain": [
              "<Figure size 432x288 with 1 Axes>"
            ],
            "image/png": "[encoded data removed]"
          },
          "metadata": {
            "needs_background": "light"
          }
        }
      ]
    },
    {
      "cell_type": "markdown",
      "source": [
        "Find the equation's  R2  score"
      ],
      "metadata": {
        "id": "pK80eZ9Ucghs"
      }
    },
    {
      "cell_type": "code",
      "source": [
        "Score=model.score(X_train,y_train)\n",
        "print(Score)"
      ],
      "metadata": {
        "colab": {
          "base_uri": "https://localhost:8080/"
        },
        "id": "9hEiTv5McDCN",
        "outputId": "5e158c6d-f58c-4603-f7b1-3111bc4f9e73"
      },
      "execution_count": 89,
      "outputs": [
        {
          "output_type": "stream",
          "name": "stdout",
          "text": [
            "0.027542762715027647\n"
          ]
        }
      ]
    },
    {
      "cell_type": "markdown",
      "source": [
        "The Score for this model is very less tha 0.8 there is not correlation between the values"
      ],
      "metadata": {
        "id": "QhWG4KJBcR0s"
      }
    },
    {
      "cell_type": "markdown",
      "source": [
        "# Part 2"
      ],
      "metadata": {
        "id": "MmeyPzADcZXa"
      }
    },
    {
      "cell_type": "markdown",
      "source": [
        "Use mileage, cylinders, liters, doors, cruise, sound, and leather to find the linear regression equation"
      ],
      "metadata": {
        "id": "dE5nhByeck27"
      }
    },
    {
      "cell_type": "code",
      "source": [
        "X=df[[\"Mileage\",\"Cylinder\",\"Liter\",\"Doors\",\"Cruise\",\"Sound\",\"Leather\"]]\n",
        "y=df[\"Price\"]"
      ],
      "metadata": {
        "id": "tFuOI2hIckNx"
      },
      "execution_count": 90,
      "outputs": []
    },
    {
      "cell_type": "code",
      "source": [
        "from sklearn.linear_model import LinearRegression\n",
        "from sklearn.model_selection import train_test_split\n",
        "X_train,X_test,y_train,y_test = train_test_split(X,y,test_size=0.3,random_state=0)"
      ],
      "metadata": {
        "id": "W-umQvpIdINB"
      },
      "execution_count": 91,
      "outputs": []
    },
    {
      "cell_type": "code",
      "source": [
        "model = LinearRegression()\n",
        "model.fit(X_train,y_train)"
      ],
      "metadata": {
        "colab": {
          "base_uri": "https://localhost:8080/"
        },
        "outputId": "9d08243a-fb71-49e9-9304-0e80f4ad685c",
        "id": "lp4LuXIedINC"
      },
      "execution_count": 92,
      "outputs": [
        {
          "output_type": "execute_result",
          "data": {
            "text/plain": [
              "LinearRegression()"
            ]
          },
          "metadata": {},
          "execution_count": 92
        }
      ]
    },
    {
      "cell_type": "code",
      "source": [
        "print(model.intercept_)\n",
        "print(model.coef_)"
      ],
      "metadata": {
        "colab": {
          "base_uri": "https://localhost:8080/"
        },
        "outputId": "de815401-fee0-4b36-9abf-a9bf3e44e332",
        "id": "scubT-sWdIND"
      },
      "execution_count": 93,
      "outputs": [
        {
          "output_type": "stream",
          "name": "stdout",
          "text": [
            "5646.931137899097\n",
            "[-1.76691421e-01  3.49049625e+03 -1.84154495e+02 -1.26870328e+03\n",
            "  6.30539132e+03 -2.00436670e+03  3.77474047e+03]\n"
          ]
        }
      ]
    },
    {
      "cell_type": "code",
      "source": [
        "y_pred = model.predict(X_test)\n",
        "y_pred"
      ],
      "metadata": {
        "colab": {
          "base_uri": "https://localhost:8080/"
        },
        "outputId": "539657f9-9d84-4728-e22b-249a2b3d3351",
        "id": "f-IEXzQidINE"
      },
      "execution_count": 94,
      "outputs": [
        {
          "output_type": "execute_result",
          "data": {
            "text/plain": [
              "array([26780.04374972, 23120.93606341, 10410.65034107, 33281.27677065,\n",
              "       14413.30310284, 20675.34558305,  9275.23126804, 16131.2744577 ,\n",
              "       21053.89745407, 38159.13789426, 13801.06732816, 27514.4117245 ,\n",
              "       24800.56952054, 22790.57665322, 21073.94041221, 22882.04926187,\n",
              "       18210.52103687, 26149.52943842, 30248.6906881 , 10370.54138844,\n",
              "        9669.35300134, 14565.43441654, 26272.42782095, 26696.01522395,\n",
              "       23165.01131076, 23875.68753819, 18112.69205573, 23071.95437698,\n",
              "       28853.94755183, 14533.55199098,  7806.31865555, 12650.21891217,\n",
              "       33397.08398641, 19520.56930035, 25642.08701023, 22027.76702049,\n",
              "       21592.08827908, 23539.38503137, 33608.86266567, 22247.74783996,\n",
              "       14038.66010045, 22476.25215107, 17256.95355043, 24405.88042716,\n",
              "       23723.5724351 , 17008.23352315, 30366.77950068, 15707.900366  ,\n",
              "       24294.38814035, 16155.47886851, 15449.97130961, 21258.66340987,\n",
              "       22938.11536897, 12673.48162084, 31958.35688024, 15029.66172337,\n",
              "       34700.97156006, 21098.05906523, 15463.96923683, 19177.23591671,\n",
              "       13370.70596914, 22330.8744421 , 33794.48289633, 17849.77290699,\n",
              "       17783.55292896, 22476.5379314 , 28008.99290676, 24518.49092875,\n",
              "       26795.10094854, 13314.34140576, 18454.53188964, 13556.05527004,\n",
              "       25570.1582681 , 11329.74336214, 35175.56471757, 24249.03651132,\n",
              "       23631.1650777 , 25187.73996625, 28939.64289114, 26398.1134877 ,\n",
              "       18289.91355126, 17874.84345059, 24846.43020661, 11703.26902669,\n",
              "       23940.72079623, 19291.92828734, 21370.68577095, 19071.76184619,\n",
              "       21644.30958733, 16648.09686489, 18832.4901734 , 15579.30666829,\n",
              "       36341.66642524, 21670.96357913, 25116.53332348, 12193.39250476,\n",
              "       22936.07867403, 18186.76530297, 20496.59193098, 25997.37734428,\n",
              "       33557.18631757, 35843.49446203, 10985.78091728, 34345.82180332,\n",
              "       20174.89717501, 18703.41101874, 26405.41473052, 22597.75276505,\n",
              "       23438.563777  , 20204.22795094, 19340.72296939, 15055.57641913,\n",
              "       22774.14435105, 27680.00974896, 34093.68314518, 14836.8324396 ,\n",
              "       36279.56888971, 24054.57353336, 19633.6405658 , 15047.84015933,\n",
              "       24374.6060456 , 37202.78156581, 11052.51452218, 23652.34958172,\n",
              "       27806.28742791, 25224.54984811, 17368.11374061, 17068.71774156,\n",
              "       25348.74058614, 19324.25388717, 24387.38589417, 21889.73397146,\n",
              "       23920.16628834, 19718.22893451, 19388.91479007, 19036.74545638,\n",
              "       36419.94072486, 18097.14321066, 22913.62121595, 29257.82709181,\n",
              "       36474.87097644, 34164.14485952, 21960.64718239, 10947.9493149 ,\n",
              "       14555.37964529, 26270.50499574, 14964.24659256, 18856.72838651,\n",
              "       18086.36503397, 19761.43924926, 12357.91074246, 25484.40486255,\n",
              "       22956.01950554, 23385.64059289, 23973.75127699, 17337.01605047,\n",
              "       23488.3961534 , 33284.78981864, 20384.71349417, 31374.92180723,\n",
              "       20617.06271313, 20349.1985185 , 11662.98338264, 27008.32402261,\n",
              "       26407.8522963 , 17519.89167147, 12816.9550549 , 26650.07545442,\n",
              "       21502.46342508, 23555.59244105, 25434.63594799, 13952.51151441,\n",
              "       20754.03271074, 18669.22730015, 25349.31020213, 20963.41204494,\n",
              "       26723.40239425, 18783.93152095, 24102.59091854, 16892.27316492,\n",
              "       31355.14280703, 22214.25555338, 33092.15800672, 21914.07019435,\n",
              "       14826.17376502, 35642.79378791, 11269.31489607, 18748.52789011,\n",
              "       35951.35507567, 27362.18391654, 19828.84228288, 15337.43944369,\n",
              "       24272.58770402, 22814.23390223, 19565.31177166, 28815.56735068,\n",
              "       18386.24991758, 24835.04032151, 12585.89842823, 14377.14030465,\n",
              "       18176.14529318, 13402.4514818 , 25041.08542067, 33171.53061761,\n",
              "       24327.91996866, 22051.89014308, 24936.18944861, 22227.63916407,\n",
              "       27084.73635073, 18582.64850373, 20284.9156083 , 26335.93888785,\n",
              "       13207.79647874, 19710.31510636, 26211.17396401, 26968.78861564,\n",
              "       11593.87596173, 11508.43894798, 18194.85356662, 24537.17273139,\n",
              "       20901.88928421, 18502.76864764, 21173.40593245, 27554.20545702,\n",
              "       22549.86938989, 15146.61270873, 14209.99022014, 19927.47024208,\n",
              "       37589.8762977 , 15637.06623853, 21290.12264014, 23947.49853208,\n",
              "       31638.93001001, 19017.2149829 , 24545.8200328 , 25405.67388858,\n",
              "       34446.00583918, 12552.86193906, 18007.34187625, 21345.24220629,\n",
              "       27059.03926711, 27668.15515514])"
            ]
          },
          "metadata": {},
          "execution_count": 94
        }
      ]
    },
    {
      "cell_type": "markdown",
      "source": [
        "Find the equation's  R2  score"
      ],
      "metadata": {
        "id": "j6jvgE8edzox"
      }
    },
    {
      "cell_type": "code",
      "source": [
        "Score=model.score(X_train,y_train)\n",
        "print(Score)"
      ],
      "metadata": {
        "colab": {
          "base_uri": "https://localhost:8080/"
        },
        "outputId": "989bf914-3c4e-4cbb-e2d9-bc5212e4e6cf",
        "id": "pD6U_KS7dING"
      },
      "execution_count": 95,
      "outputs": [
        {
          "output_type": "stream",
          "name": "stdout",
          "text": [
            "0.47191555755912684\n"
          ]
        }
      ]
    },
    {
      "cell_type": "markdown",
      "source": [
        "The score for this model is lesser than 0.8 which means that there is no correlation between the values"
      ],
      "metadata": {
        "id": "wAD6H-Oyd1QN"
      }
    },
    {
      "cell_type": "markdown",
      "source": [
        "Find the combination of the factors that is the best predictor for price"
      ],
      "metadata": {
        "id": "s9FyxeMyeFf7"
      }
    },
    {
      "cell_type": "code",
      "source": [
        "df.info()"
      ],
      "metadata": {
        "colab": {
          "base_uri": "https://localhost:8080/"
        },
        "id": "p_xMnzHPdp1F",
        "outputId": "33519824-397d-4993-a1e9-b2c9a0d70dd5"
      },
      "execution_count": 96,
      "outputs": [
        {
          "output_type": "stream",
          "name": "stdout",
          "text": [
            "<class 'pandas.core.frame.DataFrame'>\n",
            "RangeIndex: 804 entries, 0 to 803\n",
            "Data columns (total 12 columns):\n",
            " #   Column    Non-Null Count  Dtype  \n",
            "---  ------    --------------  -----  \n",
            " 0   Price     804 non-null    float64\n",
            " 1   Mileage   804 non-null    int64  \n",
            " 2   Make      804 non-null    object \n",
            " 3   Model     804 non-null    object \n",
            " 4   Trim      804 non-null    object \n",
            " 5   Type      804 non-null    object \n",
            " 6   Cylinder  804 non-null    int64  \n",
            " 7   Liter     804 non-null    float64\n",
            " 8   Doors     804 non-null    int64  \n",
            " 9   Cruise    804 non-null    int64  \n",
            " 10  Sound     804 non-null    int64  \n",
            " 11  Leather   804 non-null    int64  \n",
            "dtypes: float64(2), int64(6), object(4)\n",
            "memory usage: 75.5+ KB\n"
          ]
        }
      ]
    },
    {
      "cell_type": "code",
      "source": [
        "df[\"Price\"]=df[\"Price\"].astype(\"int64\")"
      ],
      "metadata": {
        "id": "LZN7oz1Ve8-k"
      },
      "execution_count": 97,
      "outputs": []
    },
    {
      "cell_type": "code",
      "source": [
        "df[\"Liter\"]=df[\"Liter\"].astype(\"int64\")"
      ],
      "metadata": {
        "id": "L9rtrZFje88R"
      },
      "execution_count": 98,
      "outputs": []
    },
    {
      "cell_type": "code",
      "source": [
        "df[\"Make\"].unique()"
      ],
      "metadata": {
        "colab": {
          "base_uri": "https://localhost:8080/"
        },
        "id": "npywHfgXfMcy",
        "outputId": "bc4ef178-fc9a-4aea-dddf-5cee42e6d424"
      },
      "execution_count": 99,
      "outputs": [
        {
          "output_type": "execute_result",
          "data": {
            "text/plain": [
              "array(['Buick', 'Cadillac', 'Chevrolet', 'Pontiac', 'SAAB', 'Saturn'],\n",
              "      dtype=object)"
            ]
          },
          "metadata": {},
          "execution_count": 99
        }
      ]
    },
    {
      "cell_type": "code",
      "source": [
        "df[\"Make\"]=df[\"Make\"].map({\"Buick\":1,\"Cadillac\":2,\"Chevrolet\":3,\"Pontiac\":4,\"SAAB\":5,\"Saturn\":6})"
      ],
      "metadata": {
        "id": "Q_IPJyykfRwK"
      },
      "execution_count": 100,
      "outputs": []
    },
    {
      "cell_type": "code",
      "source": [
        "df[\"Make\"].unique()"
      ],
      "metadata": {
        "colab": {
          "base_uri": "https://localhost:8080/"
        },
        "id": "xpvh2OFhfqmS",
        "outputId": "35de471b-5612-4199-a479-8b3fb92f8ccc"
      },
      "execution_count": 101,
      "outputs": [
        {
          "output_type": "execute_result",
          "data": {
            "text/plain": [
              "array([1, 2, 3, 4, 5, 6])"
            ]
          },
          "metadata": {},
          "execution_count": 101
        }
      ]
    },
    {
      "cell_type": "code",
      "source": [
        "df[\"Model\"].unique()"
      ],
      "metadata": {
        "colab": {
          "base_uri": "https://localhost:8080/"
        },
        "id": "P40FBZ14ft46",
        "outputId": "54230f94-3d14-4036-8ecb-a867687a5b00"
      },
      "execution_count": 102,
      "outputs": [
        {
          "output_type": "execute_result",
          "data": {
            "text/plain": [
              "array(['Century', 'Lacrosse', 'Lesabre', 'Park Avenue', 'CST-V', 'CTS',\n",
              "       'Deville', 'STS-V6', 'STS-V8', 'XLR-V8', 'AVEO', 'Cavalier',\n",
              "       'Classic', 'Cobalt', 'Corvette', 'Impala', 'Malibu', 'Monte Carlo',\n",
              "       'Bonneville', 'G6', 'Grand Am', 'Grand Prix', 'GTO', 'Sunfire',\n",
              "       'Vibe', '9_3', '9_3 HO', '9_5', '9_5 HO', '9-2X AWD', 'Ion',\n",
              "       'L Series'], dtype=object)"
            ]
          },
          "metadata": {},
          "execution_count": 102
        }
      ]
    },
    {
      "cell_type": "code",
      "source": [
        "from sklearn import preprocessing\n",
        "label_encoder = preprocessing.LabelEncoder()\n",
        "df[\"Model\"]=label_encoder.fit_transform(df['Model'])"
      ],
      "metadata": {
        "id": "lCDGuVLCf7_L"
      },
      "execution_count": 103,
      "outputs": []
    },
    {
      "cell_type": "code",
      "source": [
        "df[\"Model\"].unique()"
      ],
      "metadata": {
        "colab": {
          "base_uri": "https://localhost:8080/"
        },
        "id": "aOKCa16FgWMz",
        "outputId": "738b0546-685e-4715-868d-bc9c7caa2456"
      },
      "execution_count": 104,
      "outputs": [
        {
          "output_type": "execute_result",
          "data": {
            "text/plain": [
              "array([10, 22, 23, 26,  7,  8, 14, 27, 28, 31,  5,  9, 11, 12, 13, 19, 24,\n",
              "       25,  6, 15, 17, 18, 16, 29, 30,  1,  2,  3,  4,  0, 20, 21])"
            ]
          },
          "metadata": {},
          "execution_count": 104
        }
      ]
    },
    {
      "cell_type": "code",
      "source": [
        "df[\"Trim\"].unique()"
      ],
      "metadata": {
        "colab": {
          "base_uri": "https://localhost:8080/"
        },
        "id": "3-Z6n4UTgZr6",
        "outputId": "3afad36e-8c6f-408d-b68b-87becf7f0e9a"
      },
      "execution_count": 105,
      "outputs": [
        {
          "output_type": "execute_result",
          "data": {
            "text/plain": [
              "array(['Sedan 4D', 'CX Sedan 4D', 'CXL Sedan 4D', 'CXS Sedan 4D',\n",
              "       'Custom Sedan 4D', 'Limited Sedan 4D', 'Special Ed Ultra 4D',\n",
              "       'DHS Sedan 4D', 'DTS Sedan 4D', 'Hardtop Conv 2D',\n",
              "       'LS Hatchback 4D', 'LS Sedan 4D', 'LT Hatchback 4D', 'LT Sedan 4D',\n",
              "       'SVM Hatchback 4D', 'SVM Sedan 4D', 'Coupe 2D', 'LS Coupe 2D',\n",
              "       'LS Sport Coupe 2D', 'LS Sport Sedan 4D', 'Conv 2D', 'SS Sedan 4D',\n",
              "       'LS MAXX Hback 4D', 'LT MAXX Hback 4D', 'MAXX Hback 4D',\n",
              "       'LT Coupe 2D', 'SS Coupe 2D', 'GXP Sedan 4D', 'SE Sedan 4D',\n",
              "       'SLE Sedan 4D', 'GT Sedan 4D', 'GT Coupe 2D', 'GTP Sedan 4D',\n",
              "       'AWD Sportwagon 4D', 'GT Sportwagon', 'Sportwagon 4D',\n",
              "       'Linear Conv 2D', 'Linear Sedan 4D', 'Aero Conv 2D',\n",
              "       'Aero Sedan 4D', 'Arc Conv 2D', 'Arc Sedan 4D', 'Arc Wagon 4D',\n",
              "       'Linear Wagon 4D', 'Aero Wagon 4D', 'Quad Coupe 2D',\n",
              "       'L300 Sedan 4D'], dtype=object)"
            ]
          },
          "metadata": {},
          "execution_count": 105
        }
      ]
    },
    {
      "cell_type": "code",
      "source": [
        "from sklearn import preprocessing\n",
        "label_encoder = preprocessing.LabelEncoder()\n",
        "df[\"Trim\"]=label_encoder.fit_transform(df['Trim'])"
      ],
      "metadata": {
        "id": "NrpEyEAVghta"
      },
      "execution_count": 106,
      "outputs": []
    },
    {
      "cell_type": "code",
      "source": [
        "df[\"Type\"].unique()"
      ],
      "metadata": {
        "colab": {
          "base_uri": "https://localhost:8080/"
        },
        "id": "-aeaz5_PgoDJ",
        "outputId": "14ca08d2-f322-4ff6-d801-4bbb78bb2b31"
      },
      "execution_count": 107,
      "outputs": [
        {
          "output_type": "execute_result",
          "data": {
            "text/plain": [
              "array(['Sedan', 'Convertible', 'Hatchback', 'Coupe', 'Wagon'],\n",
              "      dtype=object)"
            ]
          },
          "metadata": {},
          "execution_count": 107
        }
      ]
    },
    {
      "cell_type": "code",
      "source": [
        "df[\"Type\"]=df[\"Type\"].map({\"Sedan\":1,\"Convertible\":2,\"Hatchback\":3,\"Coupe\":4,\"Wagon\":5})"
      ],
      "metadata": {
        "id": "YhPag0nFgsb6"
      },
      "execution_count": 108,
      "outputs": []
    },
    {
      "cell_type": "code",
      "source": [
        "df.info()"
      ],
      "metadata": {
        "colab": {
          "base_uri": "https://localhost:8080/"
        },
        "id": "sPMHLAIjhAf7",
        "outputId": "00dabf3e-fc75-46a5-e773-8612f8abc8d2"
      },
      "execution_count": 109,
      "outputs": [
        {
          "output_type": "stream",
          "name": "stdout",
          "text": [
            "<class 'pandas.core.frame.DataFrame'>\n",
            "RangeIndex: 804 entries, 0 to 803\n",
            "Data columns (total 12 columns):\n",
            " #   Column    Non-Null Count  Dtype\n",
            "---  ------    --------------  -----\n",
            " 0   Price     804 non-null    int64\n",
            " 1   Mileage   804 non-null    int64\n",
            " 2   Make      804 non-null    int64\n",
            " 3   Model     804 non-null    int64\n",
            " 4   Trim      804 non-null    int64\n",
            " 5   Type      804 non-null    int64\n",
            " 6   Cylinder  804 non-null    int64\n",
            " 7   Liter     804 non-null    int64\n",
            " 8   Doors     804 non-null    int64\n",
            " 9   Cruise    804 non-null    int64\n",
            " 10  Sound     804 non-null    int64\n",
            " 11  Leather   804 non-null    int64\n",
            "dtypes: int64(12)\n",
            "memory usage: 75.5 KB\n"
          ]
        }
      ]
    },
    {
      "cell_type": "code",
      "source": [
        "X=df.drop(columns=[\"Price\"])\n",
        "y=df[\"Price\"]"
      ],
      "metadata": {
        "id": "rjBUVRrxhUWa"
      },
      "execution_count": 110,
      "outputs": []
    },
    {
      "cell_type": "code",
      "source": [
        "from sklearn.linear_model import LinearRegression\n",
        "from sklearn.model_selection import train_test_split\n",
        "X_train,X_test,y_train,y_test = train_test_split(X,y,test_size=0.3,random_state=0)"
      ],
      "metadata": {
        "id": "VpXnSbtViEmt"
      },
      "execution_count": 111,
      "outputs": []
    },
    {
      "cell_type": "code",
      "source": [
        "model = LinearRegression()\n",
        "model.fit(X_train,y_train)"
      ],
      "metadata": {
        "colab": {
          "base_uri": "https://localhost:8080/"
        },
        "outputId": "ab59ed0b-ebdb-40c7-86e7-e59f618d917d",
        "id": "ZKMYDZsBiEmv"
      },
      "execution_count": 112,
      "outputs": [
        {
          "output_type": "execute_result",
          "data": {
            "text/plain": [
              "LinearRegression()"
            ]
          },
          "metadata": {},
          "execution_count": 112
        }
      ]
    },
    {
      "cell_type": "code",
      "source": [
        "print(model.intercept_)\n",
        "print(model.coef_)"
      ],
      "metadata": {
        "colab": {
          "base_uri": "https://localhost:8080/"
        },
        "outputId": "157f217c-bd1f-4edf-dd9c-99be78a2d8b7",
        "id": "SYOOg2LTiEmx"
      },
      "execution_count": 113,
      "outputs": [
        {
          "output_type": "stream",
          "name": "stdout",
          "text": [
            "3961.105247250489\n",
            "[-1.94385396e-01  6.81910496e+02 -1.69303212e+02 -7.63541450e+01\n",
            "  5.96016602e-01  3.43434746e+03  1.16802101e+03 -6.43932101e+02\n",
            "  4.78073389e+03 -1.34923196e+03  3.04212165e+03]\n"
          ]
        }
      ]
    },
    {
      "cell_type": "code",
      "source": [
        "y_pred = model.predict(X_test)\n",
        "y_pred"
      ],
      "metadata": {
        "colab": {
          "base_uri": "https://localhost:8080/"
        },
        "outputId": "d6f8acc1-62a3-43e0-cc11-f597ad22c661",
        "id": "iYxijIeqiEmy"
      },
      "execution_count": 114,
      "outputs": [
        {
          "output_type": "execute_result",
          "data": {
            "text/plain": [
              "array([24278.94053787, 22197.15406771,  8472.58790952, 30582.05313439,\n",
              "       14857.80816648, 24272.35790587,  8521.48781668, 19777.29638627,\n",
              "       22918.84410438, 35769.93215752, 13222.34674308, 24628.6062641 ,\n",
              "       23851.85652829, 26261.82246843, 22633.46985869, 21934.34501171,\n",
              "       22416.5576062 , 27687.6714407 , 26780.84429335,  6214.19221994,\n",
              "       10113.01476317, 15357.15995017, 27138.66148888, 23043.6224059 ,\n",
              "       22230.92875086, 25262.47991875, 22031.10430066, 21310.02707438,\n",
              "       29883.41248294, 14948.56953803,  8902.11870462, 13120.466385  ,\n",
              "       34799.84810876, 23520.20791713, 22823.55620041, 18373.85626813,\n",
              "       22186.28554024, 25359.50274266, 33312.68863441, 22041.8281562 ,\n",
              "       15106.07170023, 22623.31901598, 18777.40384397, 23048.22342837,\n",
              "       23307.26966342, 15378.57396258, 28609.06191691, 14464.27796074,\n",
              "       22467.44137329, 14159.18275032, 10691.65563379, 19927.16724369,\n",
              "       22080.21701691, 12949.2165537 , 29119.84225933, 15357.94966529,\n",
              "       36025.2872836 , 20114.50903884, 17286.4777245 , 20889.98433261,\n",
              "       13532.86517801, 17596.69364509, 38080.78417512, 17397.51892664,\n",
              "       22828.39363138, 26253.9226373 , 29769.91334629, 25969.65399104,\n",
              "       22921.01357531, 14921.58499127, 20410.97441166, 13522.38512467,\n",
              "       25236.38749718, 12738.24821832, 36471.05231348, 22561.30156813,\n",
              "       22781.2079465 , 22457.65005294, 29901.33525523, 25291.40148411,\n",
              "       22166.31363084, 19457.16957536, 26254.07914187, 12641.26930892,\n",
              "       26208.97766884, 17609.71792273, 18491.5660057 , 18497.32250542,\n",
              "       23878.49055866, 20419.84374947, 21928.89187033, 17502.59283771,\n",
              "       40807.88193859, 24796.84128182, 23830.0414929 , 10179.08457721,\n",
              "       21160.54470451, 16167.21491942, 23723.90601017, 26236.22812822,\n",
              "       37819.72458769, 38349.17074611,  9105.31237498, 37894.69445854,\n",
              "       20313.07779252, 17243.50745614, 24519.17709393, 21621.57890881,\n",
              "       25885.59680708, 20345.34576833, 18955.88135589, 16404.29467742,\n",
              "       26303.50384901, 26701.66753537, 30619.96120644, 14815.84032427,\n",
              "       38828.91390456, 21248.2886923 , 20031.71780597, 14705.49153038,\n",
              "       22633.23852147, 39844.57760102, 11925.34789379, 22476.46409464,\n",
              "       27897.61230939, 24256.65461535, 17600.60551384, 14939.3355112 ,\n",
              "       24709.6920106 , 19233.22410687, 19935.49941938, 24148.49187433,\n",
              "       22855.19447045, 24075.24819413, 18175.59755838, 22153.60138863,\n",
              "       40893.99466922, 21954.23916331, 21991.80885151, 30287.95334757,\n",
              "       40173.73465845, 31374.87834374, 23622.66922536, 11194.13932453,\n",
              "       17428.61337159, 25099.57251713, 12371.56038353, 19099.45903958,\n",
              "       22002.14087659, 19350.30632733, 13716.6685503 , 23776.6270184 ,\n",
              "       23080.70086233, 19867.70803987, 22431.68548333, 17768.88674162,\n",
              "       23048.54270074, 34390.93418605, 19992.22853601, 28477.98168025,\n",
              "       19849.47968489, 20603.22138078, 11439.73998708, 25851.67590164,\n",
              "       24707.23990703, 17970.07562695, 12585.05492053, 21492.56868051,\n",
              "       17872.30262947, 25167.00482639, 22511.78104147, 12556.5300682 ,\n",
              "       19677.41913137, 19475.25033697, 25095.80969617, 19602.34924622,\n",
              "       24999.20068953, 19096.91843443, 27471.97310779, 16938.28220183,\n",
              "       32268.0512714 , 22117.17105838, 30195.54214347, 24208.43960649,\n",
              "       14675.61898066, 38984.22491659, 10713.13002051, 17827.28090913,\n",
              "       40378.48459783, 24711.09370264, 21569.15740146, 13540.46565373,\n",
              "       22056.06607815, 20126.16084846, 18375.11557013, 26060.06032357,\n",
              "       17837.40478674, 24938.76277953,  8651.39632066, 15938.10486096,\n",
              "       12390.6005243 , 14077.71527072, 27011.5842271 , 36602.80911372,\n",
              "       23331.87559278, 21411.99935162, 23088.20393998, 20993.17675784,\n",
              "       24596.05437999, 21654.03091975, 23431.27308276, 24857.18748563,\n",
              "       12845.73220498, 22858.89099596, 26624.1427479 , 23112.09442003,\n",
              "       13527.08893288, 12018.2482763 , 22121.49351001, 23839.4048548 ,\n",
              "       20162.82894397, 22738.07105194, 23495.49727687, 22563.59289914,\n",
              "       18092.38913381, 14781.25818029, 13948.28617366, 18260.17460927,\n",
              "       34466.26504603, 14505.10573696, 20937.83115788, 23106.48895231,\n",
              "       31145.48584937, 18886.756385  , 22821.59797063, 21647.21880013,\n",
              "       31007.56568696, 12097.11029172, 17771.75310757, 18463.57450861,\n",
              "       26260.13652075, 29394.94391654])"
            ]
          },
          "metadata": {},
          "execution_count": 114
        }
      ]
    },
    {
      "cell_type": "code",
      "source": [
        "Score=model.score(X_train,y_train)\n",
        "print(Score)"
      ],
      "metadata": {
        "colab": {
          "base_uri": "https://localhost:8080/"
        },
        "outputId": "1fc4ab81-edc9-42bd-baf2-c19bbefdc735",
        "id": "A5ySed8PiEmz"
      },
      "execution_count": 115,
      "outputs": [
        {
          "output_type": "stream",
          "name": "stdout",
          "text": [
            "0.5186172562971578\n"
          ]
        }
      ]
    },
    {
      "cell_type": "code",
      "source": [
        "df.info()"
      ],
      "metadata": {
        "colab": {
          "base_uri": "https://localhost:8080/"
        },
        "id": "Zw-TmNumiwII",
        "outputId": "769c27e8-60b5-4ba2-ffbf-d80430d7725d"
      },
      "execution_count": 117,
      "outputs": [
        {
          "output_type": "stream",
          "name": "stdout",
          "text": [
            "<class 'pandas.core.frame.DataFrame'>\n",
            "RangeIndex: 804 entries, 0 to 803\n",
            "Data columns (total 12 columns):\n",
            " #   Column    Non-Null Count  Dtype\n",
            "---  ------    --------------  -----\n",
            " 0   Price     804 non-null    int64\n",
            " 1   Mileage   804 non-null    int64\n",
            " 2   Make      804 non-null    int64\n",
            " 3   Model     804 non-null    int64\n",
            " 4   Trim      804 non-null    int64\n",
            " 5   Type      804 non-null    int64\n",
            " 6   Cylinder  804 non-null    int64\n",
            " 7   Liter     804 non-null    int64\n",
            " 8   Doors     804 non-null    int64\n",
            " 9   Cruise    804 non-null    int64\n",
            " 10  Sound     804 non-null    int64\n",
            " 11  Leather   804 non-null    int64\n",
            "dtypes: int64(12)\n",
            "memory usage: 75.5 KB\n"
          ]
        }
      ]
    },
    {
      "cell_type": "code",
      "source": [
        "X=df[[\"Mileage\"]]\n",
        "y=df[\"Price\"]"
      ],
      "metadata": {
        "id": "dkHt_YakiwZy"
      },
      "execution_count": 118,
      "outputs": []
    },
    {
      "cell_type": "code",
      "source": [
        "from sklearn.linear_model import LinearRegression\n",
        "from sklearn.model_selection import train_test_split\n",
        "X_train,X_test,y_train,y_test = train_test_split(X,y,test_size=0.3,random_state=0)"
      ],
      "metadata": {
        "id": "Xum0w1ZxiwZz"
      },
      "execution_count": 119,
      "outputs": []
    },
    {
      "cell_type": "code",
      "source": [
        "model = LinearRegression()\n",
        "model.fit(X_train,y_train)"
      ],
      "metadata": {
        "colab": {
          "base_uri": "https://localhost:8080/"
        },
        "outputId": "77c9c478-0e8d-49f2-f6ef-80f70f042e64",
        "id": "xnkd_4D1iwZz"
      },
      "execution_count": 120,
      "outputs": [
        {
          "output_type": "execute_result",
          "data": {
            "text/plain": [
              "LinearRegression()"
            ]
          },
          "metadata": {},
          "execution_count": 120
        }
      ]
    },
    {
      "cell_type": "code",
      "source": [
        "print(model.intercept_)\n",
        "print(model.coef_)"
      ],
      "metadata": {
        "colab": {
          "base_uri": "https://localhost:8080/"
        },
        "outputId": "7f1e4fdd-de73-4d25-b159-5b81fc9a9a23",
        "id": "sOCcY9zAiwZ0"
      },
      "execution_count": 121,
      "outputs": [
        {
          "output_type": "stream",
          "name": "stdout",
          "text": [
            "25580.946567180472\n",
            "[-0.20365025]\n"
          ]
        }
      ]
    },
    {
      "cell_type": "code",
      "source": [
        "y_pred = model.predict(X_test)\n",
        "y_pred"
      ],
      "metadata": {
        "colab": {
          "base_uri": "https://localhost:8080/"
        },
        "outputId": "5dfd1c51-09e1-4f6d-9094-cd1ab5087a40",
        "id": "YdGpga9aiwZ1"
      },
      "execution_count": 122,
      "outputs": [
        {
          "output_type": "execute_result",
          "data": {
            "text/plain": [
              "array([20689.0638266 , 20970.91577752, 21210.4084757 , 22764.66721081,\n",
              "       20943.62664354, 21465.5822434 , 19901.75194637, 18602.0560282 ,\n",
              "       24275.75209216, 25462.21846936, 20237.97851499, 21069.68615049,\n",
              "       20823.88029446, 23967.22195803, 22031.11899751, 20695.58063472,\n",
              "       20934.86968264, 22421.10923307, 21910.96534792, 21164.17986814,\n",
              "       22623.74123535, 21118.96951185, 20188.89880388, 20740.79099101,\n",
              "       20979.26543792, 19800.3341201 , 20885.78997154, 20300.09184232,\n",
              "       23227.97153764, 21569.24022246, 20476.4529619 , 21708.74064614,\n",
              "       20821.43649141, 22508.47519184, 20952.17995419, 22021.14013509,\n",
              "       24372.07866209, 23670.70718886, 23142.23478089, 22274.68470076,\n",
              "       23309.02433855, 25391.14453087, 21261.93198985, 20347.74600165,\n",
              "       21601.82426302, 19591.59261021, 24971.62500855, 20125.56357503,\n",
              "       20219.24269166, 20521.86696844, 22667.93334037, 21565.9818184 ,\n",
              "       23501.67747841, 21862.90388808, 23881.48520129, 24578.5800192 ,\n",
              "       22090.7885218 , 23802.67255316, 25079.15234243, 23475.20294545,\n",
              "       22666.5077886 , 18019.8199533 , 20728.77562605, 22474.66924975,\n",
              "       24793.43103669, 23541.59292811, 24394.48018999, 20541.21374253,\n",
              "       20240.62596828, 22601.54335771, 21216.1106828 , 22880.13690457,\n",
              "       21753.34005167, 20314.14370981, 22637.79310284, 20230.64710586,\n",
              "       23720.60150098, 21248.89837362, 23326.74191061, 20397.43666352,\n",
              "       21090.05117585, 21974.09692652, 20919.18861312, 20744.66034582,\n",
              "       22304.62128803, 24136.86261924, 21695.09607915, 21467.21144543,\n",
              "       21409.37477342, 19197.73301984, 20767.67282448, 19942.68564734,\n",
              "       23664.59768125, 21998.7386072 , 21166.82732144, 21224.66399345,\n",
              "       20143.48479734, 20949.9398014 , 21323.23071617, 19935.55788846,\n",
              "       20455.27333553, 20716.55661083, 21873.29005101, 21681.45151216,\n",
              "       23241.41245437, 21545.41314279, 24142.15752583, 20367.90737675,\n",
              "       21725.84726744, 23275.21839646, 18881.66782633, 21683.89531521,\n",
              "       23948.28248445, 21874.91925304, 21390.84260034, 21431.77630131,\n",
              "       21219.1654366 , 22047.00371729, 22114.81925172, 22289.34751902,\n",
              "       20311.69990677, 22283.23801141, 19994.61646199, 19542.92019961,\n",
              "       21321.19421363, 21355.00015572, 24349.2698337 , 21616.89438179,\n",
              "       23496.17892157, 21758.22765775, 20390.10525439, 21692.2449756 ,\n",
              "       24633.56558766, 22672.6172962 , 19410.95483531, 21003.09251758,\n",
              "       23754.81474358, 20867.86874922, 22893.57782131, 23523.6717058 ,\n",
              "       21507.94149614, 20857.68623655, 21851.09217337, 21300.21823751,\n",
              "       21178.8426864 , 22496.86712739, 22108.09879336, 21219.36908685,\n",
              "       20855.44608376, 22764.87086106, 21499.18453523, 21590.82714933,\n",
              "       21169.67842499, 23586.19233364, 19913.36001082, 24313.42738907,\n",
              "       21330.76577555, 20458.53173958, 20127.39642731, 23209.03206406,\n",
              "       20395.19651073, 20086.46272634, 20698.22808801, 25451.42500592,\n",
              "       22718.84590376, 24524.2054015 , 22028.26789396, 20687.84192508,\n",
              "       21415.68793128, 24785.28502655, 21597.14030719, 20941.99744152,\n",
              "       20984.35669425, 20579.49999019, 23475.61024596, 21225.68224471,\n",
              "       20772.35678031, 21135.46518239, 24801.37339658, 18955.18556786,\n",
              "       18234.46732054, 22193.63189985, 19622.14014824, 19968.75287979,\n",
              "       24216.69351863, 22795.41839909, 20244.4953231 , 21470.06254898,\n",
              "       23214.73427116, 21296.3488827 , 19486.71272963, 17665.87581262,\n",
              "       25526.77559974, 21048.71017438, 22538.81907962, 22569.36661765,\n",
              "       21179.86093766, 25256.73536353, 23717.54674718, 23826.49963283,\n",
              "       20852.79863046, 19778.54354297, 25401.5306938 , 20327.99192706,\n",
              "       20279.1158662 , 25404.78909786, 21022.64294192, 22682.79980888,\n",
              "       21188.82154882, 20479.71136595, 21079.25771241, 22635.96025056,\n",
              "       22478.74225482, 20416.98708786, 20181.97469526, 20440.81416752,\n",
              "       24841.89979704, 20392.75270769, 20980.48733944, 25344.71227306,\n",
              "       20723.48071945, 21271.70720202, 20972.7486298 , 21729.92027251,\n",
              "       20312.71815804, 17445.93353879, 23633.84649297, 20031.68080814,\n",
              "       25420.47016738, 19924.35712452, 24024.04037877, 21923.59166364,\n",
              "       20871.73810404, 21907.0959931 , 20509.03700246, 20679.69591494,\n",
              "       21796.92120593, 21596.52935643, 25093.81516068, 21665.77044264,\n",
              "       23426.93783536, 24001.63885088])"
            ]
          },
          "metadata": {},
          "execution_count": 122
        }
      ]
    },
    {
      "cell_type": "code",
      "source": [
        "Score=model.score(X_train,y_train)\n",
        "print(Score)"
      ],
      "metadata": {
        "colab": {
          "base_uri": "https://localhost:8080/"
        },
        "outputId": "f2a9d022-efef-4500-95d6-e0e3b2268a6a",
        "id": "RkH_QPBdiwZ2"
      },
      "execution_count": 123,
      "outputs": [
        {
          "output_type": "stream",
          "name": "stdout",
          "text": [
            "0.027543073964130138\n"
          ]
        }
      ]
    },
    {
      "cell_type": "markdown",
      "source": [
        "There is no relation between Mileage and Price"
      ],
      "metadata": {
        "id": "luxCMAa7jKMM"
      }
    },
    {
      "cell_type": "code",
      "source": [
        "X=df[[\"Make\"]]\n",
        "y=df[\"Price\"]"
      ],
      "metadata": {
        "id": "mqD0O66ui9uZ"
      },
      "execution_count": 130,
      "outputs": []
    },
    {
      "cell_type": "code",
      "source": [
        "from sklearn.linear_model import LinearRegression\n",
        "from sklearn.model_selection import train_test_split\n",
        "X_train,X_test,y_train,y_test = train_test_split(X,y,test_size=0.3,random_state=0)"
      ],
      "metadata": {
        "id": "kmDhYDrDi9ua"
      },
      "execution_count": 131,
      "outputs": []
    },
    {
      "cell_type": "code",
      "source": [
        "model = LinearRegression()\n",
        "model.fit(X_train,y_train)"
      ],
      "metadata": {
        "colab": {
          "base_uri": "https://localhost:8080/"
        },
        "outputId": "583063c5-0ead-48ef-9fb0-3c91248d8b68",
        "id": "rGZWVHqyi9ua"
      },
      "execution_count": 132,
      "outputs": [
        {
          "output_type": "execute_result",
          "data": {
            "text/plain": [
              "LinearRegression()"
            ]
          },
          "metadata": {},
          "execution_count": 132
        }
      ]
    },
    {
      "cell_type": "code",
      "source": [
        "print(model.intercept_)\n",
        "print(model.coef_)"
      ],
      "metadata": {
        "colab": {
          "base_uri": "https://localhost:8080/"
        },
        "outputId": "7cd0d7f2-704f-4752-e8c0-245ffb1646dd",
        "id": "aZKrNJI9i9ub"
      },
      "execution_count": 133,
      "outputs": [
        {
          "output_type": "stream",
          "name": "stdout",
          "text": [
            "26030.085924856867\n",
            "[-1346.99545632]\n"
          ]
        }
      ]
    },
    {
      "cell_type": "code",
      "source": [
        "y_pred = model.predict(X_test)\n",
        "y_pred"
      ],
      "metadata": {
        "colab": {
          "base_uri": "https://localhost:8080/"
        },
        "outputId": "f0b614cc-6f71-4b02-b53e-6533e717f1ee",
        "id": "AuKRa_ali9uc"
      },
      "execution_count": 134,
      "outputs": [
        {
          "output_type": "execute_result",
          "data": {
            "text/plain": [
              "array([24683.09046853, 20642.10409957, 20642.10409957, 23336.09501221,\n",
              "       21989.09955589, 19295.10864325, 20642.10409957, 19295.10864325,\n",
              "       19295.10864325, 23336.09501221, 17948.11318692, 21989.09955589,\n",
              "       24683.09046853, 19295.10864325, 19295.10864325, 20642.10409957,\n",
              "       19295.10864325, 20642.10409957, 21989.09955589, 20642.10409957,\n",
              "       21989.09955589, 21989.09955589, 20642.10409957, 24683.09046853,\n",
              "       24683.09046853, 20642.10409957, 19295.10864325, 21989.09955589,\n",
              "       20642.10409957, 21989.09955589, 21989.09955589, 21989.09955589,\n",
              "       23336.09501221, 19295.10864325, 21989.09955589, 24683.09046853,\n",
              "       21989.09955589, 20642.10409957, 23336.09501221, 24683.09046853,\n",
              "       21989.09955589, 21989.09955589, 19295.10864325, 21989.09955589,\n",
              "       20642.10409957, 21989.09955589, 24683.09046853, 17948.11318692,\n",
              "       21989.09955589, 21989.09955589, 20642.10409957, 21989.09955589,\n",
              "       21989.09955589, 17948.11318692, 21989.09955589, 21989.09955589,\n",
              "       23336.09501221, 21989.09955589, 21989.09955589, 19295.10864325,\n",
              "       21989.09955589, 24683.09046853, 21989.09955589, 21989.09955589,\n",
              "       19295.10864325, 19295.10864325, 17948.11318692, 20642.10409957,\n",
              "       21989.09955589, 21989.09955589, 19295.10864325, 20642.10409957,\n",
              "       21989.09955589, 21989.09955589, 23336.09501221, 21989.09955589,\n",
              "       24683.09046853, 21989.09955589, 20642.10409957, 21989.09955589,\n",
              "       19295.10864325, 19295.10864325, 20642.10409957, 21989.09955589,\n",
              "       19295.10864325, 21989.09955589, 20642.10409957, 21989.09955589,\n",
              "       17948.11318692, 19295.10864325, 19295.10864325, 19295.10864325,\n",
              "       21989.09955589, 19295.10864325, 21989.09955589, 20642.10409957,\n",
              "       21989.09955589, 21989.09955589, 19295.10864325, 20642.10409957,\n",
              "       21989.09955589, 20642.10409957, 20642.10409957, 20642.10409957,\n",
              "       21989.09955589, 21989.09955589, 21989.09955589, 20642.10409957,\n",
              "       19295.10864325, 21989.09955589, 24683.09046853, 21989.09955589,\n",
              "       19295.10864325, 21989.09955589, 23336.09501221, 21989.09955589,\n",
              "       20642.10409957, 24683.09046853, 21989.09955589, 17948.11318692,\n",
              "       21989.09955589, 20642.10409957, 21989.09955589, 24683.09046853,\n",
              "       20642.10409957, 20642.10409957, 21989.09955589, 20642.10409957,\n",
              "       24683.09046853, 21989.09955589, 24683.09046853, 17948.11318692,\n",
              "       21989.09955589, 19295.10864325, 21989.09955589, 19295.10864325,\n",
              "       21989.09955589, 19295.10864325, 24683.09046853, 17948.11318692,\n",
              "       21989.09955589, 23336.09501221, 20642.10409957, 17948.11318692,\n",
              "       19295.10864325, 21989.09955589, 20642.10409957, 21989.09955589,\n",
              "       19295.10864325, 21989.09955589, 21989.09955589, 21989.09955589,\n",
              "       19295.10864325, 24683.09046853, 24683.09046853, 21989.09955589,\n",
              "       20642.10409957, 23336.09501221, 24683.09046853, 21989.09955589,\n",
              "       24683.09046853, 21989.09955589, 20642.10409957, 21989.09955589,\n",
              "       21989.09955589, 21989.09955589, 21989.09955589, 24683.09046853,\n",
              "       24683.09046853, 19295.10864325, 24683.09046853, 20642.10409957,\n",
              "       21989.09955589, 19295.10864325, 20642.10409957, 21989.09955589,\n",
              "       24683.09046853, 21989.09955589, 19295.10864325, 21989.09955589,\n",
              "       23336.09501221, 24683.09046853, 23336.09501221, 19295.10864325,\n",
              "       21989.09955589, 20642.10409957, 21989.09955589, 21989.09955589,\n",
              "       21989.09955589, 23336.09501221, 20642.10409957, 21989.09955589,\n",
              "       21989.09955589, 17948.11318692, 17948.11318692, 21989.09955589,\n",
              "       21989.09955589, 20642.10409957, 20642.10409957, 21989.09955589,\n",
              "       20642.10409957, 21989.09955589, 20642.10409957, 20642.10409957,\n",
              "       24683.09046853, 21989.09955589, 21989.09955589, 21989.09955589,\n",
              "       21989.09955589, 19295.10864325, 19295.10864325, 21989.09955589,\n",
              "       21989.09955589, 19295.10864325, 20642.10409957, 21989.09955589,\n",
              "       21989.09955589, 21989.09955589, 19295.10864325, 21989.09955589,\n",
              "       24683.09046853, 19295.10864325, 20642.10409957, 24683.09046853,\n",
              "       24683.09046853, 21989.09955589, 21989.09955589, 21989.09955589,\n",
              "       23336.09501221, 21989.09955589, 21989.09955589, 20642.10409957,\n",
              "       23336.09501221, 21989.09955589, 21989.09955589, 21989.09955589,\n",
              "       23336.09501221, 21989.09955589, 17948.11318692, 20642.10409957,\n",
              "       24683.09046853, 17948.11318692])"
            ]
          },
          "metadata": {},
          "execution_count": 134
        }
      ]
    },
    {
      "cell_type": "code",
      "source": [
        "Score=model.score(X_train,y_train)\n",
        "print(Score)"
      ],
      "metadata": {
        "colab": {
          "base_uri": "https://localhost:8080/"
        },
        "outputId": "9908a26d-b043-4e61-caa7-31c046898ea9",
        "id": "s4sD0kJHi9uc"
      },
      "execution_count": 135,
      "outputs": [
        {
          "output_type": "stream",
          "name": "stdout",
          "text": [
            "0.0318569531762779\n"
          ]
        }
      ]
    },
    {
      "cell_type": "markdown",
      "source": [
        "There is no relation"
      ],
      "metadata": {
        "id": "jsy08Wx2jioh"
      }
    },
    {
      "cell_type": "code",
      "source": [
        "X=df[[\"Model\"]]\n",
        "y=df[\"Price\"]"
      ],
      "metadata": {
        "id": "jCMhk749jHQF"
      },
      "execution_count": 136,
      "outputs": []
    },
    {
      "cell_type": "code",
      "source": [
        "from sklearn.linear_model import LinearRegression\n",
        "from sklearn.model_selection import train_test_split\n",
        "X_train,X_test,y_train,y_test = train_test_split(X,y,test_size=0.3,random_state=0)"
      ],
      "metadata": {
        "id": "S_c0fh_wjHQH"
      },
      "execution_count": 137,
      "outputs": []
    },
    {
      "cell_type": "code",
      "source": [
        "model = LinearRegression()\n",
        "model.fit(X_train,y_train)"
      ],
      "metadata": {
        "colab": {
          "base_uri": "https://localhost:8080/"
        },
        "outputId": "befb1869-58e5-429d-e7dc-055ba0f0c62f",
        "id": "bGRRxH9CjHQI"
      },
      "execution_count": 138,
      "outputs": [
        {
          "output_type": "execute_result",
          "data": {
            "text/plain": [
              "LinearRegression()"
            ]
          },
          "metadata": {},
          "execution_count": 138
        }
      ]
    },
    {
      "cell_type": "code",
      "source": [
        "print(model.intercept_)\n",
        "print(model.coef_)"
      ],
      "metadata": {
        "colab": {
          "base_uri": "https://localhost:8080/"
        },
        "outputId": "361701e1-a0b6-4e2e-c614-5aaf7d65169a",
        "id": "CIQnu4mHjHQK"
      },
      "execution_count": 139,
      "outputs": [
        {
          "output_type": "stream",
          "name": "stdout",
          "text": [
            "21845.714103736496\n",
            "[-27.75650973]\n"
          ]
        }
      ]
    },
    {
      "cell_type": "code",
      "source": [
        "y_pred = model.predict(X_test)\n",
        "y_pred"
      ],
      "metadata": {
        "colab": {
          "base_uri": "https://localhost:8080/"
        },
        "outputId": "e3e4ee81-a881-4b13-8fb1-3814d803b952",
        "id": "YoZ3COK8jHQL"
      },
      "execution_count": 140,
      "outputs": [
        {
          "output_type": "execute_result",
          "data": {
            "text/plain": [
              "array([21568.14900647, 21346.09692866, 21013.01881193, 21068.53183139,\n",
              "       21595.9055162 , 21790.20108428, 21013.01881193, 21734.68806483,\n",
              "       21762.44457456, 20985.26230221, 21290.5839092 , 21151.80136057,\n",
              "       21235.07088975, 21762.44457456, 21845.71410374, 21346.09692866,\n",
              "       21790.20108428, 21679.17504538, 21151.80136057, 21013.01881193,\n",
              "       21706.9315551 , 21512.63598702, 21429.36645784, 21207.31438002,\n",
              "       21235.07088975, 21679.17504538, 21734.68806483, 21151.80136057,\n",
              "       21679.17504538, 21706.9315551 , 21706.9315551 , 21706.9315551 ,\n",
              "       21651.41853565, 21762.44457456, 21151.80136057, 21124.04485084,\n",
              "       21179.5578703 , 21373.85343838, 21457.12296756, 21235.07088975,\n",
              "       21706.9315551 , 21179.5578703 , 21817.95759401, 21179.5578703 ,\n",
              "       21429.36645784, 21595.9055162 , 21207.31438002, 21290.5839092 ,\n",
              "       21179.5578703 , 21706.9315551 , 21013.01881193, 21595.9055162 ,\n",
              "       21595.9055162 , 21290.5839092 , 21151.80136057, 21595.9055162 ,\n",
              "       21457.12296756, 21179.5578703 , 21595.9055162 , 21817.95759401,\n",
              "       21595.9055162 , 21124.04485084, 21484.87947729, 21706.9315551 ,\n",
              "       21790.20108428, 21790.20108428, 21262.82739948, 21679.17504538,\n",
              "       21151.80136057, 21595.9055162 , 21817.95759401, 21373.85343838,\n",
              "       21318.34041893, 21595.9055162 , 21457.12296756, 21318.34041893,\n",
              "       21568.14900647, 21179.5578703 , 21679.17504538, 21318.34041893,\n",
              "       21762.44457456, 21817.95759401, 21679.17504538, 21512.63598702,\n",
              "       21790.20108428, 21706.9315551 , 21040.77532166, 21179.5578703 ,\n",
              "       21262.82739948, 21734.68806483, 21790.20108428, 21817.95759401,\n",
              "       21484.87947729, 21790.20108428, 21179.5578703 , 21013.01881193,\n",
              "       21151.80136057, 21512.63598702, 21734.68806483, 21346.09692866,\n",
              "       21484.87947729, 21401.60994811, 21013.01881193, 21679.17504538,\n",
              "       21595.9055162 , 21595.9055162 , 21151.80136057, 21346.09692866,\n",
              "       21790.20108428, 21595.9055162 , 21235.07088975, 21595.9055162 ,\n",
              "       21734.68806483, 21318.34041893, 21068.53183139, 21512.63598702,\n",
              "       21401.60994811, 21207.31438002, 21179.5578703 , 21290.5839092 ,\n",
              "       21179.5578703 , 21401.60994811, 21512.63598702, 21235.07088975,\n",
              "       21373.85343838, 21346.09692866, 21512.63598702, 21013.01881193,\n",
              "       21235.07088975, 21179.5578703 , 21124.04485084, 21262.82739948,\n",
              "       21595.9055162 , 21790.20108428, 21595.9055162 , 21790.20108428,\n",
              "       21484.87947729, 21762.44457456, 21568.14900647, 21262.82739948,\n",
              "       21484.87947729, 20985.26230221, 21373.85343838, 21290.5839092 ,\n",
              "       21845.71410374, 21179.5578703 , 21013.01881193, 21179.5578703 ,\n",
              "       21734.68806483, 21512.63598702, 21595.9055162 , 21179.5578703 ,\n",
              "       21817.95759401, 21124.04485084, 21207.31438002, 21595.9055162 ,\n",
              "       21429.36645784, 21457.12296756, 21235.07088975, 21151.80136057,\n",
              "       21207.31438002, 21318.34041893, 21373.85343838, 21318.34041893,\n",
              "       21318.34041893, 21595.9055162 , 21540.39249674, 21124.04485084,\n",
              "       21124.04485084, 21817.95759401, 21207.31438002, 21013.01881193,\n",
              "       21595.9055162 , 21817.95759401, 21429.36645784, 21595.9055162 ,\n",
              "       21235.07088975, 21179.5578703 , 21790.20108428, 21179.5578703 ,\n",
              "       21457.12296756, 21235.07088975, 20985.26230221, 21790.20108428,\n",
              "       21706.9315551 , 21401.60994811, 21512.63598702, 21706.9315551 ,\n",
              "       21484.87947729, 21623.66202592, 21346.09692866, 21595.9055162 ,\n",
              "       21706.9315551 , 21290.5839092 , 21290.5839092 , 21151.80136057,\n",
              "       21512.63598702, 21346.09692866, 21013.01881193, 21595.9055162 ,\n",
              "       21013.01881193, 21512.63598702, 21373.85343838, 21679.17504538,\n",
              "       21235.07088975, 21512.63598702, 21318.34041893, 21595.9055162 ,\n",
              "       21318.34041893, 21790.20108428, 21762.44457456, 21318.34041893,\n",
              "       21512.63598702, 21734.68806483, 21346.09692866, 21151.80136057,\n",
              "       21706.9315551 , 21706.9315551 , 21734.68806483, 21595.9055162 ,\n",
              "       21207.31438002, 21790.20108428, 21429.36645784, 21124.04485084,\n",
              "       21124.04485084, 21595.9055162 , 21512.63598702, 21512.63598702,\n",
              "       21068.53183139, 21706.9315551 , 21179.5578703 , 21346.09692866,\n",
              "       21457.12296756, 21595.9055162 , 21179.5578703 , 21151.80136057,\n",
              "       21068.53183139, 21706.9315551 , 21290.5839092 , 21040.77532166,\n",
              "       21235.07088975, 21262.82739948])"
            ]
          },
          "metadata": {},
          "execution_count": 140
        }
      ]
    },
    {
      "cell_type": "code",
      "source": [
        "Score=model.score(X_train,y_train)\n",
        "print(Score)"
      ],
      "metadata": {
        "colab": {
          "base_uri": "https://localhost:8080/"
        },
        "outputId": "0a57f93a-231f-4a96-dbd0-c3a68e055dfa",
        "id": "Mn15TMeyjHQM"
      },
      "execution_count": 141,
      "outputs": [
        {
          "output_type": "stream",
          "name": "stdout",
          "text": [
            "0.000559743003604618\n"
          ]
        }
      ]
    },
    {
      "cell_type": "markdown",
      "source": [
        "There is no relation"
      ],
      "metadata": {
        "id": "UY8bXYs5jyye"
      }
    },
    {
      "cell_type": "code",
      "source": [
        "X=df[[\"Trim\"]]\n",
        "y=df[\"Price\"]"
      ],
      "metadata": {
        "id": "7R6iKKnyj4mD"
      },
      "execution_count": 142,
      "outputs": []
    },
    {
      "cell_type": "code",
      "source": [
        "from sklearn.linear_model import LinearRegression\n",
        "from sklearn.model_selection import train_test_split\n",
        "X_train,X_test,y_train,y_test = train_test_split(X,y,test_size=0.3,random_state=0)"
      ],
      "metadata": {
        "id": "UoTCr60Ej4mE"
      },
      "execution_count": 143,
      "outputs": []
    },
    {
      "cell_type": "code",
      "source": [
        "model = LinearRegression()\n",
        "model.fit(X_train,y_train)"
      ],
      "metadata": {
        "colab": {
          "base_uri": "https://localhost:8080/"
        },
        "outputId": "30962dcf-618f-46b2-b0ff-c0dd4293ecb5",
        "id": "LCquLegij4mE"
      },
      "execution_count": 144,
      "outputs": [
        {
          "output_type": "execute_result",
          "data": {
            "text/plain": [
              "LinearRegression()"
            ]
          },
          "metadata": {},
          "execution_count": 144
        }
      ]
    },
    {
      "cell_type": "code",
      "source": [
        "print(model.intercept_)\n",
        "print(model.coef_)"
      ],
      "metadata": {
        "colab": {
          "base_uri": "https://localhost:8080/"
        },
        "outputId": "cb8a8ed7-4026-45b3-b66a-869dabadb51b",
        "id": "P2Y0soVPj4mF"
      },
      "execution_count": 145,
      "outputs": [
        {
          "output_type": "stream",
          "name": "stdout",
          "text": [
            "24886.27241251363\n",
            "[-127.31353613]\n"
          ]
        }
      ]
    },
    {
      "cell_type": "code",
      "source": [
        "y_pred = model.predict(X_test)\n",
        "y_pred"
      ],
      "metadata": {
        "colab": {
          "base_uri": "https://localhost:8080/"
        },
        "outputId": "d13f807e-6b2b-47bf-98b8-91604b25cd56",
        "id": "_gKlG0gwj4mG"
      },
      "execution_count": 146,
      "outputs": [
        {
          "output_type": "execute_result",
          "data": {
            "text/plain": [
              "array([19284.4768229 , 19284.4768229 , 22721.94229834, 19284.4768229 ,\n",
              "       22085.37461771, 24631.64534026, 24886.27241251, 24504.33180413,\n",
              "       20430.29864805, 22340.00168996, 20175.67157579, 21321.49340094,\n",
              "       23995.07765962, 24249.70473188, 20430.29864805, 19284.4768229 ,\n",
              "       24631.64534026, 19921.04450353, 21321.49340094, 19029.84975064,\n",
              "       19539.10389515, 23485.82351511, 22849.25583447, 20812.23925643,\n",
              "       23867.76412349, 20048.35803966, 24631.64534026, 22085.37461771,\n",
              "       20048.35803966, 21958.06108158, 20939.55279256, 20939.55279256,\n",
              "       19284.4768229 , 24249.70473188, 21321.49340094, 19157.16328677,\n",
              "       21830.74754545, 22976.5693706 , 19284.4768229 , 23740.45058736,\n",
              "       21703.43400932, 20939.55279256, 20684.9257203 , 21703.43400932,\n",
              "       19284.4768229 , 19284.4768229 , 23358.50997898, 20175.67157579,\n",
              "       20939.55279256, 19411.79035902, 19029.84975064, 21576.12047319,\n",
              "       22085.37461771, 19284.4768229 , 22085.37461771, 19284.4768229 ,\n",
              "       23231.19644285, 19284.4768229 , 21703.43400932, 20684.9257203 ,\n",
              "       19284.4768229 , 19157.16328677, 23613.13705124, 21703.43400932,\n",
              "       24249.70473188, 24631.64534026, 22212.68815383, 20048.35803966,\n",
              "       19793.73096741, 21703.43400932, 20557.61218417, 20048.35803966,\n",
              "       21703.43400932, 21703.43400932, 23103.88290673, 19666.41743128,\n",
              "       19284.4768229 , 19284.4768229 , 19921.04450353, 21703.43400932,\n",
              "       24249.70473188, 20684.9257203 , 19921.04450353, 21703.43400932,\n",
              "       24377.018268  , 19411.79035902, 23485.82351511, 20302.98511192,\n",
              "       22212.68815383, 24631.64534026, 24758.95887639, 20557.61218417,\n",
              "       23485.82351511, 24758.95887639, 21703.43400932, 22721.94229834,\n",
              "       22085.37461771, 19284.4768229 , 24504.33180413, 22594.62876222,\n",
              "       23613.13705124, 23485.82351511, 22721.94229834, 22467.31522609,\n",
              "       21703.43400932, 19284.4768229 , 21321.49340094, 19284.4768229 ,\n",
              "       24758.95887639, 21703.43400932, 23995.07765962, 23485.82351511,\n",
              "       24631.64534026, 21703.43400932, 19284.4768229 , 22085.37461771,\n",
              "       23485.82351511, 20812.23925643, 21830.74754545, 19284.4768229 ,\n",
              "       21066.86632868, 23485.82351511, 21703.43400932, 23740.45058736,\n",
              "       22976.5693706 , 19284.4768229 , 22085.37461771, 24886.27241251,\n",
              "       23995.07765962, 21066.86632868, 19284.4768229 , 22212.68815383,\n",
              "       21576.12047319, 24631.64534026, 22085.37461771, 24758.95887639,\n",
              "       23485.82351511, 24249.70473188, 19284.4768229 , 22212.68815383,\n",
              "       23613.13705124, 22340.00168996, 22976.5693706 , 20175.67157579,\n",
              "       20430.29864805, 21703.43400932, 22721.94229834, 21703.43400932,\n",
              "       24631.64534026, 21703.43400932, 21448.80693707, 20939.55279256,\n",
              "       20684.9257203 , 19157.16328677, 23358.50997898, 21576.12047319,\n",
              "       19284.4768229 , 23103.88290673, 23740.45058736, 22085.37461771,\n",
              "       23358.50997898, 21703.43400932, 20048.35803966, 19666.41743128,\n",
              "       19284.4768229 , 21576.12047319, 19284.4768229 , 19157.16328677,\n",
              "       19284.4768229 , 20557.61218417, 20812.23925643, 24886.27241251,\n",
              "       22085.37461771, 20684.9257203 , 19284.4768229 , 21576.12047319,\n",
              "       23740.45058736, 21830.74754545, 24758.95887639, 21703.43400932,\n",
              "       23103.88290673, 23995.07765962, 22340.00168996, 24758.95887639,\n",
              "       19539.10389515, 23485.82351511, 19284.4768229 , 21194.17986481,\n",
              "       23485.82351511, 19284.4768229 , 22849.25583447, 19284.4768229 ,\n",
              "       19539.10389515, 20175.67157579, 19284.4768229 , 21321.49340094,\n",
              "       21703.43400932, 19284.4768229 , 19029.84975064, 21448.80693707,\n",
              "       19029.84975064, 23485.82351511, 22976.5693706 , 22467.31522609,\n",
              "       23995.07765962, 20939.55279256, 19284.4768229 , 21576.12047319,\n",
              "       19284.4768229 , 24758.95887639, 24122.39119575, 19666.41743128,\n",
              "       19284.4768229 , 24504.33180413, 22849.25583447, 19793.73096741,\n",
              "       21703.43400932, 21194.17986481, 24631.64534026, 22085.37461771,\n",
              "       23358.50997898, 24631.64534026, 22849.25583447, 19284.4768229 ,\n",
              "       19157.16328677, 21703.43400932, 19284.4768229 , 22085.37461771,\n",
              "       19284.4768229 , 20939.55279256, 20302.98511192, 19284.4768229 ,\n",
              "       19284.4768229 , 21448.80693707, 21066.86632868, 19793.73096741,\n",
              "       19284.4768229 , 19411.79035902, 19284.4768229 , 23485.82351511,\n",
              "       23867.76412349, 22212.68815383])"
            ]
          },
          "metadata": {},
          "execution_count": 146
        }
      ]
    },
    {
      "cell_type": "code",
      "source": [
        "Score=model.score(X_train,y_train)\n",
        "print(Score)"
      ],
      "metadata": {
        "colab": {
          "base_uri": "https://localhost:8080/"
        },
        "outputId": "67637400-33af-42d3-ac04-b1a7eeaa739b",
        "id": "3uXSAz89j4mH"
      },
      "execution_count": 147,
      "outputs": [
        {
          "output_type": "stream",
          "name": "stdout",
          "text": [
            "0.032772904699508\n"
          ]
        }
      ]
    },
    {
      "cell_type": "markdown",
      "source": [
        "Ther is no Relation"
      ],
      "metadata": {
        "id": "7y2u0QaakDK_"
      }
    },
    {
      "cell_type": "code",
      "source": [
        "df.info()"
      ],
      "metadata": {
        "colab": {
          "base_uri": "https://localhost:8080/"
        },
        "id": "kZndME5gkUOf",
        "outputId": "ac29ffc3-b83d-47a4-da2b-e9836aa5767e"
      },
      "execution_count": 154,
      "outputs": [
        {
          "output_type": "stream",
          "name": "stdout",
          "text": [
            "<class 'pandas.core.frame.DataFrame'>\n",
            "RangeIndex: 804 entries, 0 to 803\n",
            "Data columns (total 12 columns):\n",
            " #   Column    Non-Null Count  Dtype\n",
            "---  ------    --------------  -----\n",
            " 0   Price     804 non-null    int64\n",
            " 1   Mileage   804 non-null    int64\n",
            " 2   Make      804 non-null    int64\n",
            " 3   Model     804 non-null    int64\n",
            " 4   Trim      804 non-null    int64\n",
            " 5   Type      804 non-null    int64\n",
            " 6   Cylinder  804 non-null    int64\n",
            " 7   Liter     804 non-null    int64\n",
            " 8   Doors     804 non-null    int64\n",
            " 9   Cruise    804 non-null    int64\n",
            " 10  Sound     804 non-null    int64\n",
            " 11  Leather   804 non-null    int64\n",
            "dtypes: int64(12)\n",
            "memory usage: 75.5 KB\n"
          ]
        }
      ]
    },
    {
      "cell_type": "code",
      "source": [
        "X=df[[\"Type\"]]\n",
        "y=df[\"Price\"]"
      ],
      "metadata": {
        "id": "bFgHBOk8kFZT"
      },
      "execution_count": 148,
      "outputs": []
    },
    {
      "cell_type": "code",
      "source": [
        "from sklearn.linear_model import LinearRegression\n",
        "from sklearn.model_selection import train_test_split\n",
        "X_train,X_test,y_train,y_test = train_test_split(X,y,test_size=0.3,random_state=0)"
      ],
      "metadata": {
        "id": "sd2RvF7qkFZU"
      },
      "execution_count": 149,
      "outputs": []
    },
    {
      "cell_type": "code",
      "source": [
        "model = LinearRegression()\n",
        "model.fit(X_train,y_train)"
      ],
      "metadata": {
        "colab": {
          "base_uri": "https://localhost:8080/"
        },
        "outputId": "db68ca5e-1105-4c2e-dc33-994b606cda69",
        "id": "YTvfemt9kFZV"
      },
      "execution_count": 150,
      "outputs": [
        {
          "output_type": "execute_result",
          "data": {
            "text/plain": [
              "LinearRegression()"
            ]
          },
          "metadata": {},
          "execution_count": 150
        }
      ]
    },
    {
      "cell_type": "code",
      "source": [
        "print(model.intercept_)\n",
        "print(model.coef_)"
      ],
      "metadata": {
        "colab": {
          "base_uri": "https://localhost:8080/"
        },
        "outputId": "ae0d2b74-53d1-424c-c1af-ea4b65d94622",
        "id": "Wtl3cz7hkFZW"
      },
      "execution_count": 151,
      "outputs": [
        {
          "output_type": "stream",
          "name": "stdout",
          "text": [
            "22747.68352607041\n",
            "[-640.72992324]\n"
          ]
        }
      ]
    },
    {
      "cell_type": "code",
      "source": [
        "y_pred = model.predict(X_test)\n",
        "y_pred"
      ],
      "metadata": {
        "colab": {
          "base_uri": "https://localhost:8080/"
        },
        "outputId": "20cc6059-2510-4a3b-b5b9-11a365d87add",
        "id": "BLj0BnoUkFZX"
      },
      "execution_count": 152,
      "outputs": [
        {
          "output_type": "execute_result",
          "data": {
            "text/plain": [
              "array([22106.95360283, 22106.95360283, 19544.03390986, 22106.95360283,\n",
              "       20184.7638331 , 22106.95360283, 19544.03390986, 19544.03390986,\n",
              "       19544.03390986, 21466.22367959, 20184.7638331 , 20184.7638331 ,\n",
              "       22106.95360283, 22106.95360283, 19544.03390986, 22106.95360283,\n",
              "       22106.95360283, 22106.95360283, 20184.7638331 , 19544.03390986,\n",
              "       20825.49375634, 20184.7638331 , 22106.95360283, 22106.95360283,\n",
              "       22106.95360283, 22106.95360283, 22106.95360283, 20184.7638331 ,\n",
              "       22106.95360283, 20825.49375634, 22106.95360283, 22106.95360283,\n",
              "       22106.95360283, 22106.95360283, 20184.7638331 , 22106.95360283,\n",
              "       20825.49375634, 20184.7638331 , 22106.95360283, 22106.95360283,\n",
              "       22106.95360283, 22106.95360283, 21466.22367959, 22106.95360283,\n",
              "       22106.95360283, 22106.95360283, 22106.95360283, 20184.7638331 ,\n",
              "       22106.95360283, 22106.95360283, 19544.03390986, 20184.7638331 ,\n",
              "       20184.7638331 , 22106.95360283, 20184.7638331 , 22106.95360283,\n",
              "       22106.95360283, 22106.95360283, 22106.95360283, 21466.22367959,\n",
              "       22106.95360283, 22106.95360283, 21466.22367959, 22106.95360283,\n",
              "       22106.95360283, 22106.95360283, 22106.95360283, 22106.95360283,\n",
              "       20184.7638331 , 22106.95360283, 22106.95360283, 22106.95360283,\n",
              "       22106.95360283, 22106.95360283, 22106.95360283, 22106.95360283,\n",
              "       22106.95360283, 22106.95360283, 22106.95360283, 22106.95360283,\n",
              "       22106.95360283, 21466.22367959, 22106.95360283, 22106.95360283,\n",
              "       21466.22367959, 22106.95360283, 20184.7638331 , 20825.49375634,\n",
              "       22106.95360283, 22106.95360283, 21466.22367959, 22106.95360283,\n",
              "       20184.7638331 , 21466.22367959, 22106.95360283, 19544.03390986,\n",
              "       20184.7638331 , 22106.95360283, 19544.03390986, 22106.95360283,\n",
              "       21466.22367959, 20184.7638331 , 19544.03390986, 22106.95360283,\n",
              "       22106.95360283, 22106.95360283, 20184.7638331 , 22106.95360283,\n",
              "       21466.22367959, 22106.95360283, 22106.95360283, 20184.7638331 ,\n",
              "       22106.95360283, 22106.95360283, 22106.95360283, 20184.7638331 ,\n",
              "       20184.7638331 , 22106.95360283, 20825.49375634, 22106.95360283,\n",
              "       20825.49375634, 20184.7638331 , 22106.95360283, 22106.95360283,\n",
              "       20184.7638331 , 22106.95360283, 20184.7638331 , 19544.03390986,\n",
              "       22106.95360283, 20825.49375634, 22106.95360283, 22106.95360283,\n",
              "       20184.7638331 , 22106.95360283, 20184.7638331 , 21466.22367959,\n",
              "       20184.7638331 , 22106.95360283, 22106.95360283, 22106.95360283,\n",
              "       21466.22367959, 21466.22367959, 20184.7638331 , 20184.7638331 ,\n",
              "       19544.03390986, 22106.95360283, 19544.03390986, 22106.95360283,\n",
              "       22106.95360283, 22106.95360283, 22106.95360283, 22106.95360283,\n",
              "       21466.22367959, 22106.95360283, 22106.95360283, 20184.7638331 ,\n",
              "       22106.95360283, 22106.95360283, 22106.95360283, 20184.7638331 ,\n",
              "       22106.95360283, 22106.95360283, 22106.95360283, 22106.95360283,\n",
              "       22106.95360283, 20184.7638331 , 22106.95360283, 22106.95360283,\n",
              "       22106.95360283, 22106.95360283, 22106.95360283, 19544.03390986,\n",
              "       20184.7638331 , 21466.22367959, 22106.95360283, 20184.7638331 ,\n",
              "       22106.95360283, 20825.49375634, 21466.22367959, 22106.95360283,\n",
              "       22106.95360283, 22106.95360283, 21466.22367959, 21466.22367959,\n",
              "       20825.49375634, 20184.7638331 , 22106.95360283, 20825.49375634,\n",
              "       20184.7638331 , 22106.95360283, 22106.95360283, 22106.95360283,\n",
              "       20825.49375634, 20184.7638331 , 22106.95360283, 20184.7638331 ,\n",
              "       22106.95360283, 22106.95360283, 19544.03390986, 22106.95360283,\n",
              "       19544.03390986, 20184.7638331 , 20184.7638331 , 22106.95360283,\n",
              "       22106.95360283, 22106.95360283, 22106.95360283, 20184.7638331 ,\n",
              "       22106.95360283, 21466.22367959, 19544.03390986, 22106.95360283,\n",
              "       22106.95360283, 19544.03390986, 22106.95360283, 20184.7638331 ,\n",
              "       22106.95360283, 20825.49375634, 22106.95360283, 20184.7638331 ,\n",
              "       22106.95360283, 22106.95360283, 22106.95360283, 22106.95360283,\n",
              "       22106.95360283, 22106.95360283, 22106.95360283, 20184.7638331 ,\n",
              "       22106.95360283, 22106.95360283, 20825.49375634, 22106.95360283,\n",
              "       22106.95360283, 22106.95360283, 20825.49375634, 20184.7638331 ,\n",
              "       22106.95360283, 22106.95360283, 22106.95360283, 20184.7638331 ,\n",
              "       22106.95360283, 22106.95360283])"
            ]
          },
          "metadata": {},
          "execution_count": 152
        }
      ]
    },
    {
      "cell_type": "code",
      "source": [
        "Score=model.score(X_train,y_train)\n",
        "print(Score)"
      ],
      "metadata": {
        "colab": {
          "base_uri": "https://localhost:8080/"
        },
        "outputId": "09929744-082f-404c-846f-5b3f03fc809e",
        "id": "eQ_r5Y0lkFZY"
      },
      "execution_count": 153,
      "outputs": [
        {
          "output_type": "stream",
          "name": "stdout",
          "text": [
            "0.008452289429336846\n"
          ]
        }
      ]
    },
    {
      "cell_type": "markdown",
      "source": [
        "There is no relation"
      ],
      "metadata": {
        "id": "GFPcpWwHkOr3"
      }
    },
    {
      "cell_type": "code",
      "source": [
        "X=df[[\"Cylinder\"]]\n",
        "y=df[\"Price\"]"
      ],
      "metadata": {
        "id": "83ceU_wikRPG"
      },
      "execution_count": 155,
      "outputs": []
    },
    {
      "cell_type": "code",
      "source": [
        "from sklearn.linear_model import LinearRegression\n",
        "from sklearn.model_selection import train_test_split\n",
        "X_train,X_test,y_train,y_test = train_test_split(X,y,test_size=0.3,random_state=0)"
      ],
      "metadata": {
        "id": "khM25CeykRPI"
      },
      "execution_count": 156,
      "outputs": []
    },
    {
      "cell_type": "code",
      "source": [
        "model = LinearRegression()\n",
        "model.fit(X_train,y_train)"
      ],
      "metadata": {
        "colab": {
          "base_uri": "https://localhost:8080/"
        },
        "outputId": "8f0eb224-1f32-446e-a12a-c2b0a5f705ba",
        "id": "lFKP98DAkRPJ"
      },
      "execution_count": 157,
      "outputs": [
        {
          "output_type": "execute_result",
          "data": {
            "text/plain": [
              "LinearRegression()"
            ]
          },
          "metadata": {},
          "execution_count": 157
        }
      ]
    },
    {
      "cell_type": "code",
      "source": [
        "print(model.intercept_)\n",
        "print(model.coef_)"
      ],
      "metadata": {
        "colab": {
          "base_uri": "https://localhost:8080/"
        },
        "outputId": "8d42e4ec-629e-4a7a-d2c8-5a4c1848ed11",
        "id": "TX1KfLPykRPL"
      },
      "execution_count": 158,
      "outputs": [
        {
          "output_type": "stream",
          "name": "stdout",
          "text": [
            "-1050.498394776132\n",
            "[4260.65343825]\n"
          ]
        }
      ]
    },
    {
      "cell_type": "code",
      "source": [
        "y_pred = model.predict(X_test)\n",
        "y_pred"
      ],
      "metadata": {
        "colab": {
          "base_uri": "https://localhost:8080/"
        },
        "outputId": "7a6e8f30-6d01-461d-e9e1-f8c0597b521f",
        "id": "efJ-1n2PkRPL"
      },
      "execution_count": 159,
      "outputs": [
        {
          "output_type": "execute_result",
          "data": {
            "text/plain": [
              "array([24513.42223475, 24513.42223475, 15992.11535824, 33034.72911126,\n",
              "       15992.11535824, 15992.11535824, 15992.11535824, 15992.11535824,\n",
              "       15992.11535824, 33034.72911126, 15992.11535824, 24513.42223475,\n",
              "       24513.42223475, 15992.11535824, 15992.11535824, 24513.42223475,\n",
              "       15992.11535824, 24513.42223475, 24513.42223475, 15992.11535824,\n",
              "       15992.11535824, 15992.11535824, 24513.42223475, 24513.42223475,\n",
              "       24513.42223475, 24513.42223475, 15992.11535824, 24513.42223475,\n",
              "       24513.42223475, 15992.11535824, 15992.11535824, 15992.11535824,\n",
              "       33034.72911126, 15992.11535824, 24513.42223475, 24513.42223475,\n",
              "       24513.42223475, 24513.42223475, 33034.72911126, 24513.42223475,\n",
              "       15992.11535824, 24513.42223475, 15992.11535824, 24513.42223475,\n",
              "       24513.42223475, 15992.11535824, 24513.42223475, 15992.11535824,\n",
              "       24513.42223475, 15992.11535824, 15992.11535824, 15992.11535824,\n",
              "       15992.11535824, 15992.11535824, 24513.42223475, 15992.11535824,\n",
              "       33034.72911126, 24513.42223475, 15992.11535824, 15992.11535824,\n",
              "       15992.11535824, 24513.42223475, 33034.72911126, 15992.11535824,\n",
              "       15992.11535824, 15992.11535824, 24513.42223475, 24513.42223475,\n",
              "       24513.42223475, 15992.11535824, 15992.11535824, 15992.11535824,\n",
              "       24513.42223475, 15992.11535824, 33034.72911126, 24513.42223475,\n",
              "       24513.42223475, 24513.42223475, 24513.42223475, 24513.42223475,\n",
              "       15992.11535824, 15992.11535824, 24513.42223475, 15992.11535824,\n",
              "       15992.11535824, 15992.11535824, 15992.11535824, 24513.42223475,\n",
              "       24513.42223475, 15992.11535824, 15992.11535824, 15992.11535824,\n",
              "       33034.72911126, 15992.11535824, 24513.42223475, 15992.11535824,\n",
              "       24513.42223475, 15992.11535824, 15992.11535824, 24513.42223475,\n",
              "       33034.72911126, 33034.72911126, 15992.11535824, 33034.72911126,\n",
              "       15992.11535824, 15992.11535824, 24513.42223475, 24513.42223475,\n",
              "       15992.11535824, 15992.11535824, 24513.42223475, 15992.11535824,\n",
              "       15992.11535824, 24513.42223475, 33034.72911126, 15992.11535824,\n",
              "       33034.72911126, 24513.42223475, 24513.42223475, 15992.11535824,\n",
              "       24513.42223475, 33034.72911126, 15992.11535824, 24513.42223475,\n",
              "       24513.42223475, 24513.42223475, 15992.11535824, 15992.11535824,\n",
              "       24513.42223475, 24513.42223475, 24513.42223475, 24513.42223475,\n",
              "       15992.11535824, 15992.11535824, 15992.11535824, 15992.11535824,\n",
              "       33034.72911126, 15992.11535824, 24513.42223475, 24513.42223475,\n",
              "       33034.72911126, 33034.72911126, 24513.42223475, 15992.11535824,\n",
              "       15992.11535824, 24513.42223475, 15992.11535824, 24513.42223475,\n",
              "       15992.11535824, 15992.11535824, 15992.11535824, 24513.42223475,\n",
              "       15992.11535824, 24513.42223475, 24513.42223475, 15992.11535824,\n",
              "       24513.42223475, 33034.72911126, 24513.42223475, 24513.42223475,\n",
              "       24513.42223475, 24513.42223475, 15992.11535824, 24513.42223475,\n",
              "       24513.42223475, 15992.11535824, 15992.11535824, 24513.42223475,\n",
              "       24513.42223475, 15992.11535824, 24513.42223475, 15992.11535824,\n",
              "       15992.11535824, 15992.11535824, 24513.42223475, 15992.11535824,\n",
              "       24513.42223475, 24513.42223475, 15992.11535824, 24513.42223475,\n",
              "       33034.72911126, 24513.42223475, 33034.72911126, 15992.11535824,\n",
              "       15992.11535824, 33034.72911126, 15992.11535824, 15992.11535824,\n",
              "       33034.72911126, 24513.42223475, 24513.42223475, 15992.11535824,\n",
              "       15992.11535824, 15992.11535824, 15992.11535824, 24513.42223475,\n",
              "       15992.11535824, 24513.42223475, 15992.11535824, 15992.11535824,\n",
              "       15992.11535824, 15992.11535824, 24513.42223475, 33034.72911126,\n",
              "       24513.42223475, 15992.11535824, 24513.42223475, 15992.11535824,\n",
              "       24513.42223475, 15992.11535824, 15992.11535824, 24513.42223475,\n",
              "       15992.11535824, 15992.11535824, 24513.42223475, 24513.42223475,\n",
              "       15992.11535824, 15992.11535824, 15992.11535824, 15992.11535824,\n",
              "       24513.42223475, 15992.11535824, 24513.42223475, 24513.42223475,\n",
              "       24513.42223475, 15992.11535824, 15992.11535824, 15992.11535824,\n",
              "       33034.72911126, 15992.11535824, 24513.42223475, 24513.42223475,\n",
              "       33034.72911126, 15992.11535824, 24513.42223475, 24513.42223475,\n",
              "       33034.72911126, 15992.11535824, 15992.11535824, 15992.11535824,\n",
              "       24513.42223475, 24513.42223475])"
            ]
          },
          "metadata": {},
          "execution_count": 159
        }
      ]
    },
    {
      "cell_type": "code",
      "source": [
        "Score=model.score(X_train,y_train)\n",
        "print(Score)"
      ],
      "metadata": {
        "colab": {
          "base_uri": "https://localhost:8080/"
        },
        "outputId": "bdb5a610-a4e8-4e41-a0e7-ee8ebf302afa",
        "id": "a72wug9skRPM"
      },
      "execution_count": 160,
      "outputs": [
        {
          "output_type": "stream",
          "name": "stdout",
          "text": [
            "0.3518843377635479\n"
          ]
        }
      ]
    },
    {
      "cell_type": "code",
      "source": [
        "X=df[[\"Doors\"]]\n",
        "y=df[\"Price\"]"
      ],
      "metadata": {
        "id": "aL33oWwykjv_"
      },
      "execution_count": 161,
      "outputs": []
    },
    {
      "cell_type": "code",
      "source": [
        "from sklearn.linear_model import LinearRegression\n",
        "from sklearn.model_selection import train_test_split\n",
        "X_train,X_test,y_train,y_test = train_test_split(X,y,test_size=0.3,random_state=0)"
      ],
      "metadata": {
        "id": "QBCXz74nkjwA"
      },
      "execution_count": 162,
      "outputs": []
    },
    {
      "cell_type": "code",
      "source": [
        "model = LinearRegression()\n",
        "model.fit(X_train,y_train)"
      ],
      "metadata": {
        "colab": {
          "base_uri": "https://localhost:8080/"
        },
        "outputId": "ab96818d-820a-4d57-be56-1050f913b06d",
        "id": "nGVW_ed0kjwB"
      },
      "execution_count": 163,
      "outputs": [
        {
          "output_type": "execute_result",
          "data": {
            "text/plain": [
              "LinearRegression()"
            ]
          },
          "metadata": {},
          "execution_count": 163
        }
      ]
    },
    {
      "cell_type": "code",
      "source": [
        "print(model.intercept_)\n",
        "print(model.coef_)"
      ],
      "metadata": {
        "colab": {
          "base_uri": "https://localhost:8080/"
        },
        "outputId": "6cb982e4-5ec3-4e10-e3de-b307a63ba9dc",
        "id": "i_Ia5UpVkjwC"
      },
      "execution_count": 164,
      "outputs": [
        {
          "output_type": "stream",
          "name": "stdout",
          "text": [
            "26111.69105720824\n",
            "[-1315.3415286]\n"
          ]
        }
      ]
    },
    {
      "cell_type": "code",
      "source": [
        "y_pred = model.predict(X_test)\n",
        "y_pred"
      ],
      "metadata": {
        "colab": {
          "base_uri": "https://localhost:8080/"
        },
        "outputId": "6cbfc7d8-e2c6-4b1e-ff4e-392fe136e130",
        "id": "NGec9EIIkjwC"
      },
      "execution_count": 165,
      "outputs": [
        {
          "output_type": "execute_result",
          "data": {
            "text/plain": [
              "array([20850.32494279, 20850.32494279, 20850.32494279, 20850.32494279,\n",
              "       23481.008     , 20850.32494279, 20850.32494279, 20850.32494279,\n",
              "       20850.32494279, 23481.008     , 23481.008     , 23481.008     ,\n",
              "       20850.32494279, 20850.32494279, 20850.32494279, 20850.32494279,\n",
              "       20850.32494279, 20850.32494279, 23481.008     , 20850.32494279,\n",
              "       20850.32494279, 23481.008     , 20850.32494279, 20850.32494279,\n",
              "       20850.32494279, 20850.32494279, 20850.32494279, 23481.008     ,\n",
              "       20850.32494279, 20850.32494279, 20850.32494279, 20850.32494279,\n",
              "       20850.32494279, 20850.32494279, 23481.008     , 20850.32494279,\n",
              "       20850.32494279, 23481.008     , 20850.32494279, 20850.32494279,\n",
              "       20850.32494279, 20850.32494279, 23481.008     , 20850.32494279,\n",
              "       20850.32494279, 20850.32494279, 20850.32494279, 23481.008     ,\n",
              "       20850.32494279, 20850.32494279, 20850.32494279, 23481.008     ,\n",
              "       23481.008     , 20850.32494279, 23481.008     , 20850.32494279,\n",
              "       20850.32494279, 20850.32494279, 20850.32494279, 23481.008     ,\n",
              "       20850.32494279, 20850.32494279, 23481.008     , 20850.32494279,\n",
              "       20850.32494279, 20850.32494279, 20850.32494279, 20850.32494279,\n",
              "       23481.008     , 20850.32494279, 20850.32494279, 20850.32494279,\n",
              "       20850.32494279, 20850.32494279, 20850.32494279, 20850.32494279,\n",
              "       20850.32494279, 20850.32494279, 20850.32494279, 20850.32494279,\n",
              "       20850.32494279, 23481.008     , 20850.32494279, 20850.32494279,\n",
              "       23481.008     , 20850.32494279, 23481.008     , 20850.32494279,\n",
              "       20850.32494279, 20850.32494279, 23481.008     , 20850.32494279,\n",
              "       23481.008     , 23481.008     , 20850.32494279, 20850.32494279,\n",
              "       23481.008     , 20850.32494279, 20850.32494279, 20850.32494279,\n",
              "       23481.008     , 23481.008     , 20850.32494279, 20850.32494279,\n",
              "       20850.32494279, 20850.32494279, 23481.008     , 20850.32494279,\n",
              "       23481.008     , 20850.32494279, 20850.32494279, 23481.008     ,\n",
              "       20850.32494279, 20850.32494279, 20850.32494279, 23481.008     ,\n",
              "       23481.008     , 20850.32494279, 20850.32494279, 20850.32494279,\n",
              "       20850.32494279, 23481.008     , 20850.32494279, 20850.32494279,\n",
              "       23481.008     , 20850.32494279, 23481.008     , 20850.32494279,\n",
              "       20850.32494279, 20850.32494279, 20850.32494279, 20850.32494279,\n",
              "       23481.008     , 20850.32494279, 23481.008     , 23481.008     ,\n",
              "       23481.008     , 20850.32494279, 20850.32494279, 20850.32494279,\n",
              "       23481.008     , 23481.008     , 23481.008     , 23481.008     ,\n",
              "       20850.32494279, 20850.32494279, 20850.32494279, 20850.32494279,\n",
              "       20850.32494279, 20850.32494279, 20850.32494279, 20850.32494279,\n",
              "       23481.008     , 20850.32494279, 20850.32494279, 23481.008     ,\n",
              "       20850.32494279, 20850.32494279, 20850.32494279, 23481.008     ,\n",
              "       20850.32494279, 20850.32494279, 20850.32494279, 20850.32494279,\n",
              "       20850.32494279, 23481.008     , 20850.32494279, 20850.32494279,\n",
              "       20850.32494279, 20850.32494279, 20850.32494279, 20850.32494279,\n",
              "       23481.008     , 23481.008     , 20850.32494279, 23481.008     ,\n",
              "       20850.32494279, 20850.32494279, 23481.008     , 20850.32494279,\n",
              "       20850.32494279, 20850.32494279, 23481.008     , 23481.008     ,\n",
              "       20850.32494279, 23481.008     , 20850.32494279, 20850.32494279,\n",
              "       23481.008     , 20850.32494279, 20850.32494279, 20850.32494279,\n",
              "       20850.32494279, 23481.008     , 20850.32494279, 23481.008     ,\n",
              "       20850.32494279, 20850.32494279, 20850.32494279, 20850.32494279,\n",
              "       20850.32494279, 23481.008     , 23481.008     , 20850.32494279,\n",
              "       20850.32494279, 20850.32494279, 20850.32494279, 23481.008     ,\n",
              "       20850.32494279, 23481.008     , 20850.32494279, 20850.32494279,\n",
              "       20850.32494279, 20850.32494279, 20850.32494279, 23481.008     ,\n",
              "       20850.32494279, 20850.32494279, 20850.32494279, 23481.008     ,\n",
              "       20850.32494279, 20850.32494279, 20850.32494279, 20850.32494279,\n",
              "       20850.32494279, 20850.32494279, 20850.32494279, 23481.008     ,\n",
              "       20850.32494279, 20850.32494279, 20850.32494279, 20850.32494279,\n",
              "       20850.32494279, 20850.32494279, 20850.32494279, 23481.008     ,\n",
              "       20850.32494279, 20850.32494279, 20850.32494279, 23481.008     ,\n",
              "       20850.32494279, 20850.32494279])"
            ]
          },
          "metadata": {},
          "execution_count": 165
        }
      ]
    },
    {
      "cell_type": "code",
      "source": [
        "Score=model.score(X_train,y_train)\n",
        "print(Score)"
      ],
      "metadata": {
        "colab": {
          "base_uri": "https://localhost:8080/"
        },
        "outputId": "c65c242a-583f-4294-940b-dfb8cfa34a1e",
        "id": "NiMnWmh4kjwD"
      },
      "execution_count": 166,
      "outputs": [
        {
          "output_type": "stream",
          "name": "stdout",
          "text": [
            "0.011739346158630037\n"
          ]
        }
      ]
    },
    {
      "cell_type": "code",
      "source": [
        "X=df[[\"Cruise\"]]\n",
        "y=df[\"Price\"]"
      ],
      "metadata": {
        "id": "spDPQSyjkuHn"
      },
      "execution_count": 167,
      "outputs": []
    },
    {
      "cell_type": "code",
      "source": [
        "from sklearn.linear_model import LinearRegression\n",
        "from sklearn.model_selection import train_test_split\n",
        "X_train,X_test,y_train,y_test = train_test_split(X,y,test_size=0.3,random_state=0)"
      ],
      "metadata": {
        "id": "cLSvo31PkuHp"
      },
      "execution_count": 168,
      "outputs": []
    },
    {
      "cell_type": "code",
      "source": [
        "model = LinearRegression()\n",
        "model.fit(X_train,y_train)"
      ],
      "metadata": {
        "colab": {
          "base_uri": "https://localhost:8080/"
        },
        "outputId": "e38abe96-e83b-438f-f636-8b843c858eeb",
        "id": "BQMl-FdEkuHq"
      },
      "execution_count": 169,
      "outputs": [
        {
          "output_type": "execute_result",
          "data": {
            "text/plain": [
              "LinearRegression()"
            ]
          },
          "metadata": {},
          "execution_count": 169
        }
      ]
    },
    {
      "cell_type": "code",
      "source": [
        "print(model.intercept_)\n",
        "print(model.coef_)"
      ],
      "metadata": {
        "colab": {
          "base_uri": "https://localhost:8080/"
        },
        "outputId": "503262ab-ff73-48d5-844d-c28f4c25a738",
        "id": "Z62cQc1KkuHq"
      },
      "execution_count": 170,
      "outputs": [
        {
          "output_type": "stream",
          "name": "stdout",
          "text": [
            "13704.535714285716\n",
            "[10295.66096818]\n"
          ]
        }
      ]
    },
    {
      "cell_type": "code",
      "source": [
        "y_pred = model.predict(X_test)\n",
        "y_pred"
      ],
      "metadata": {
        "colab": {
          "base_uri": "https://localhost:8080/"
        },
        "outputId": "ac41b48a-6a2d-4d9c-88a5-2dce14c42221",
        "id": "95mOPrF1kuHr"
      },
      "execution_count": 171,
      "outputs": [
        {
          "output_type": "execute_result",
          "data": {
            "text/plain": [
              "array([24000.19668246, 24000.19668246, 13704.53571429, 24000.19668246,\n",
              "       13704.53571429, 24000.19668246, 13704.53571429, 24000.19668246,\n",
              "       24000.19668246, 24000.19668246, 13704.53571429, 24000.19668246,\n",
              "       24000.19668246, 24000.19668246, 24000.19668246, 24000.19668246,\n",
              "       24000.19668246, 24000.19668246, 24000.19668246, 13704.53571429,\n",
              "       13704.53571429, 13704.53571429, 24000.19668246, 24000.19668246,\n",
              "       24000.19668246, 24000.19668246, 24000.19668246, 24000.19668246,\n",
              "       24000.19668246, 13704.53571429, 13704.53571429, 13704.53571429,\n",
              "       24000.19668246, 24000.19668246, 24000.19668246, 24000.19668246,\n",
              "       13704.53571429, 13704.53571429, 24000.19668246, 24000.19668246,\n",
              "       13704.53571429, 13704.53571429, 24000.19668246, 24000.19668246,\n",
              "       24000.19668246, 24000.19668246, 24000.19668246, 13704.53571429,\n",
              "       24000.19668246, 24000.19668246, 13704.53571429, 24000.19668246,\n",
              "       24000.19668246, 13704.53571429, 24000.19668246, 13704.53571429,\n",
              "       24000.19668246, 13704.53571429, 13704.53571429, 24000.19668246,\n",
              "       13704.53571429, 24000.19668246, 24000.19668246, 24000.19668246,\n",
              "       24000.19668246, 24000.19668246, 24000.19668246, 24000.19668246,\n",
              "       24000.19668246, 13704.53571429, 24000.19668246, 13704.53571429,\n",
              "       24000.19668246, 13704.53571429, 24000.19668246, 24000.19668246,\n",
              "       24000.19668246, 24000.19668246, 24000.19668246, 24000.19668246,\n",
              "       24000.19668246, 24000.19668246, 24000.19668246, 13704.53571429,\n",
              "       24000.19668246, 24000.19668246, 24000.19668246, 13704.53571429,\n",
              "       24000.19668246, 24000.19668246, 24000.19668246, 24000.19668246,\n",
              "       24000.19668246, 24000.19668246, 24000.19668246, 13704.53571429,\n",
              "       24000.19668246, 24000.19668246, 24000.19668246, 24000.19668246,\n",
              "       24000.19668246, 24000.19668246, 13704.53571429, 24000.19668246,\n",
              "       24000.19668246, 24000.19668246, 24000.19668246, 24000.19668246,\n",
              "       24000.19668246, 24000.19668246, 24000.19668246, 13704.53571429,\n",
              "       24000.19668246, 24000.19668246, 24000.19668246, 13704.53571429,\n",
              "       24000.19668246, 24000.19668246, 13704.53571429, 13704.53571429,\n",
              "       24000.19668246, 24000.19668246, 13704.53571429, 24000.19668246,\n",
              "       24000.19668246, 24000.19668246, 13704.53571429, 24000.19668246,\n",
              "       24000.19668246, 13704.53571429, 24000.19668246, 24000.19668246,\n",
              "       24000.19668246, 24000.19668246, 24000.19668246, 24000.19668246,\n",
              "       24000.19668246, 24000.19668246, 24000.19668246, 24000.19668246,\n",
              "       24000.19668246, 24000.19668246, 13704.53571429, 13704.53571429,\n",
              "       24000.19668246, 24000.19668246, 13704.53571429, 13704.53571429,\n",
              "       24000.19668246, 24000.19668246, 13704.53571429, 24000.19668246,\n",
              "       24000.19668246, 24000.19668246, 24000.19668246, 13704.53571429,\n",
              "       24000.19668246, 24000.19668246, 24000.19668246, 24000.19668246,\n",
              "       24000.19668246, 24000.19668246, 13704.53571429, 24000.19668246,\n",
              "       24000.19668246, 13704.53571429, 13704.53571429, 24000.19668246,\n",
              "       24000.19668246, 24000.19668246, 24000.19668246, 13704.53571429,\n",
              "       24000.19668246, 24000.19668246, 24000.19668246, 24000.19668246,\n",
              "       24000.19668246, 13704.53571429, 24000.19668246, 13704.53571429,\n",
              "       24000.19668246, 24000.19668246, 24000.19668246, 24000.19668246,\n",
              "       13704.53571429, 24000.19668246, 13704.53571429, 24000.19668246,\n",
              "       24000.19668246, 24000.19668246, 24000.19668246, 24000.19668246,\n",
              "       24000.19668246, 24000.19668246, 24000.19668246, 24000.19668246,\n",
              "       24000.19668246, 24000.19668246, 13704.53571429, 13704.53571429,\n",
              "       24000.19668246, 13704.53571429, 13704.53571429, 24000.19668246,\n",
              "       24000.19668246, 24000.19668246, 24000.19668246, 24000.19668246,\n",
              "       24000.19668246, 24000.19668246, 24000.19668246, 24000.19668246,\n",
              "       13704.53571429, 24000.19668246, 24000.19668246, 24000.19668246,\n",
              "       13704.53571429, 13704.53571429, 24000.19668246, 24000.19668246,\n",
              "       24000.19668246, 24000.19668246, 24000.19668246, 24000.19668246,\n",
              "       24000.19668246, 24000.19668246, 13704.53571429, 24000.19668246,\n",
              "       24000.19668246, 24000.19668246, 13704.53571429, 24000.19668246,\n",
              "       24000.19668246, 24000.19668246, 24000.19668246, 24000.19668246,\n",
              "       24000.19668246, 13704.53571429, 24000.19668246, 24000.19668246,\n",
              "       24000.19668246, 24000.19668246])"
            ]
          },
          "metadata": {},
          "execution_count": 171
        }
      ]
    },
    {
      "cell_type": "code",
      "source": [
        "Score=model.score(X_train,y_train)\n",
        "print(Score)"
      ],
      "metadata": {
        "colab": {
          "base_uri": "https://localhost:8080/"
        },
        "outputId": "da855e85-53f0-46cf-e4d0-e3ccd8145328",
        "id": "_B1GvoQvkuHs"
      },
      "execution_count": 172,
      "outputs": [
        {
          "output_type": "stream",
          "name": "stdout",
          "text": [
            "0.19447525786622644\n"
          ]
        }
      ]
    },
    {
      "cell_type": "code",
      "source": [
        "X=df[[\"Sound\"]]\n",
        "y=df[\"Price\"]"
      ],
      "metadata": {
        "id": "Y_2m4fe_k79I"
      },
      "execution_count": 173,
      "outputs": []
    },
    {
      "cell_type": "code",
      "source": [
        "from sklearn.linear_model import LinearRegression\n",
        "from sklearn.model_selection import train_test_split\n",
        "X_train,X_test,y_train,y_test = train_test_split(X,y,test_size=0.3,random_state=0)"
      ],
      "metadata": {
        "id": "x3TvIp4Ok79J"
      },
      "execution_count": 174,
      "outputs": []
    },
    {
      "cell_type": "code",
      "source": [
        "model = LinearRegression()\n",
        "model.fit(X_train,y_train)"
      ],
      "metadata": {
        "colab": {
          "base_uri": "https://localhost:8080/"
        },
        "outputId": "496434b8-7cdf-4a31-806d-001339215d6d",
        "id": "n-gjDtJJk79J"
      },
      "execution_count": 175,
      "outputs": [
        {
          "output_type": "execute_result",
          "data": {
            "text/plain": [
              "LinearRegression()"
            ]
          },
          "metadata": {},
          "execution_count": 175
        }
      ]
    },
    {
      "cell_type": "code",
      "source": [
        "print(model.intercept_)\n",
        "print(model.coef_)"
      ],
      "metadata": {
        "colab": {
          "base_uri": "https://localhost:8080/"
        },
        "outputId": "d28d1519-eb01-4f55-d117-dee5926a1431",
        "id": "8EyCK_Kok79K"
      },
      "execution_count": 176,
      "outputs": [
        {
          "output_type": "stream",
          "name": "stdout",
          "text": [
            "22993.102857142854\n",
            "[-2262.03050572]\n"
          ]
        }
      ]
    },
    {
      "cell_type": "code",
      "source": [
        "y_pred = model.predict(X_test)\n",
        "y_pred"
      ],
      "metadata": {
        "colab": {
          "base_uri": "https://localhost:8080/"
        },
        "outputId": "5669e561-2a3c-4761-8ba5-f67417e7a740",
        "id": "i_yuLPbAk79L"
      },
      "execution_count": 177,
      "outputs": [
        {
          "output_type": "execute_result",
          "data": {
            "text/plain": [
              "array([22993.10285714, 22993.10285714, 22993.10285714, 20731.07235142,\n",
              "       20731.07235142, 22993.10285714, 22993.10285714, 20731.07235142,\n",
              "       20731.07235142, 20731.07235142, 20731.07235142, 20731.07235142,\n",
              "       20731.07235142, 22993.10285714, 22993.10285714, 22993.10285714,\n",
              "       20731.07235142, 20731.07235142, 22993.10285714, 22993.10285714,\n",
              "       20731.07235142, 20731.07235142, 22993.10285714, 22993.10285714,\n",
              "       22993.10285714, 20731.07235142, 20731.07235142, 20731.07235142,\n",
              "       22993.10285714, 22993.10285714, 20731.07235142, 20731.07235142,\n",
              "       22993.10285714, 20731.07235142, 22993.10285714, 20731.07235142,\n",
              "       20731.07235142, 20731.07235142, 20731.07235142, 20731.07235142,\n",
              "       20731.07235142, 20731.07235142, 20731.07235142, 20731.07235142,\n",
              "       22993.10285714, 20731.07235142, 22993.10285714, 22993.10285714,\n",
              "       20731.07235142, 22993.10285714, 22993.10285714, 20731.07235142,\n",
              "       20731.07235142, 20731.07235142, 22993.10285714, 20731.07235142,\n",
              "       22993.10285714, 20731.07235142, 20731.07235142, 20731.07235142,\n",
              "       20731.07235142, 20731.07235142, 20731.07235142, 22993.10285714,\n",
              "       20731.07235142, 22993.10285714, 20731.07235142, 20731.07235142,\n",
              "       20731.07235142, 20731.07235142, 20731.07235142, 20731.07235142,\n",
              "       20731.07235142, 20731.07235142, 22993.10285714, 20731.07235142,\n",
              "       20731.07235142, 20731.07235142, 22993.10285714, 22993.10285714,\n",
              "       20731.07235142, 20731.07235142, 20731.07235142, 20731.07235142,\n",
              "       22993.10285714, 22993.10285714, 20731.07235142, 20731.07235142,\n",
              "       20731.07235142, 20731.07235142, 22993.10285714, 22993.10285714,\n",
              "       20731.07235142, 20731.07235142, 20731.07235142, 20731.07235142,\n",
              "       20731.07235142, 20731.07235142, 22993.10285714, 22993.10285714,\n",
              "       20731.07235142, 22993.10285714, 22993.10285714, 22993.10285714,\n",
              "       20731.07235142, 20731.07235142, 20731.07235142, 22993.10285714,\n",
              "       22993.10285714, 20731.07235142, 20731.07235142, 20731.07235142,\n",
              "       22993.10285714, 22993.10285714, 22993.10285714, 20731.07235142,\n",
              "       22993.10285714, 22993.10285714, 20731.07235142, 22993.10285714,\n",
              "       20731.07235142, 22993.10285714, 20731.07235142, 20731.07235142,\n",
              "       20731.07235142, 20731.07235142, 20731.07235142, 22993.10285714,\n",
              "       22993.10285714, 20731.07235142, 20731.07235142, 20731.07235142,\n",
              "       20731.07235142, 20731.07235142, 20731.07235142, 22993.10285714,\n",
              "       20731.07235142, 20731.07235142, 20731.07235142, 22993.10285714,\n",
              "       22993.10285714, 20731.07235142, 20731.07235142, 20731.07235142,\n",
              "       20731.07235142, 20731.07235142, 22993.10285714, 20731.07235142,\n",
              "       20731.07235142, 20731.07235142, 20731.07235142, 20731.07235142,\n",
              "       22993.10285714, 20731.07235142, 20731.07235142, 20731.07235142,\n",
              "       22993.10285714, 22993.10285714, 20731.07235142, 22993.10285714,\n",
              "       20731.07235142, 20731.07235142, 20731.07235142, 22993.10285714,\n",
              "       20731.07235142, 20731.07235142, 20731.07235142, 22993.10285714,\n",
              "       20731.07235142, 22993.10285714, 20731.07235142, 22993.10285714,\n",
              "       20731.07235142, 22993.10285714, 22993.10285714, 20731.07235142,\n",
              "       22993.10285714, 20731.07235142, 20731.07235142, 20731.07235142,\n",
              "       22993.10285714, 20731.07235142, 20731.07235142, 22993.10285714,\n",
              "       20731.07235142, 20731.07235142, 20731.07235142, 20731.07235142,\n",
              "       20731.07235142, 22993.10285714, 20731.07235142, 20731.07235142,\n",
              "       22993.10285714, 22993.10285714, 20731.07235142, 20731.07235142,\n",
              "       20731.07235142, 20731.07235142, 22993.10285714, 20731.07235142,\n",
              "       20731.07235142, 20731.07235142, 20731.07235142, 22993.10285714,\n",
              "       20731.07235142, 20731.07235142, 20731.07235142, 20731.07235142,\n",
              "       22993.10285714, 22993.10285714, 22993.10285714, 20731.07235142,\n",
              "       20731.07235142, 22993.10285714, 22993.10285714, 20731.07235142,\n",
              "       20731.07235142, 20731.07235142, 20731.07235142, 20731.07235142,\n",
              "       20731.07235142, 20731.07235142, 20731.07235142, 22993.10285714,\n",
              "       22993.10285714, 20731.07235142, 20731.07235142, 20731.07235142,\n",
              "       22993.10285714, 22993.10285714, 20731.07235142, 22993.10285714,\n",
              "       20731.07235142, 20731.07235142, 20731.07235142, 22993.10285714,\n",
              "       22993.10285714, 20731.07235142, 20731.07235142, 20731.07235142,\n",
              "       20731.07235142, 20731.07235142])"
            ]
          },
          "metadata": {},
          "execution_count": 177
        }
      ]
    },
    {
      "cell_type": "code",
      "source": [
        "Score=model.score(X_train,y_train)\n",
        "print(Score)"
      ],
      "metadata": {
        "colab": {
          "base_uri": "https://localhost:8080/"
        },
        "outputId": "4be3b0d8-c476-46c6-c6d6-29c2ae7b2139",
        "id": "b8ahiOVok79L"
      },
      "execution_count": 178,
      "outputs": [
        {
          "output_type": "stream",
          "name": "stdout",
          "text": [
            "0.010761215590043616\n"
          ]
        }
      ]
    },
    {
      "cell_type": "code",
      "source": [
        "X=df[[\"Leather\"]]\n",
        "y=df[\"Price\"]"
      ],
      "metadata": {
        "id": "i91prlmNlHZ-"
      },
      "execution_count": 179,
      "outputs": []
    },
    {
      "cell_type": "code",
      "source": [
        "from sklearn.linear_model import LinearRegression\n",
        "from sklearn.model_selection import train_test_split\n",
        "X_train,X_test,y_train,y_test = train_test_split(X,y,test_size=0.3,random_state=0)"
      ],
      "metadata": {
        "id": "3m4yQABElHZ_"
      },
      "execution_count": 180,
      "outputs": []
    },
    {
      "cell_type": "code",
      "source": [
        "model = LinearRegression()\n",
        "model.fit(X_train,y_train)"
      ],
      "metadata": {
        "colab": {
          "base_uri": "https://localhost:8080/"
        },
        "outputId": "0354ea66-31ed-4e1d-b810-8809bdefbb18",
        "id": "cIKW1n7mlHaA"
      },
      "execution_count": 181,
      "outputs": [
        {
          "output_type": "execute_result",
          "data": {
            "text/plain": [
              "LinearRegression()"
            ]
          },
          "metadata": {},
          "execution_count": 181
        }
      ]
    },
    {
      "cell_type": "code",
      "source": [
        "print(model.intercept_)\n",
        "print(model.coef_)"
      ],
      "metadata": {
        "colab": {
          "base_uri": "https://localhost:8080/"
        },
        "outputId": "d83e3da5-b3aa-4c03-d709-e8f16b54c619",
        "id": "GoiWcEMtlHaB"
      },
      "execution_count": 182,
      "outputs": [
        {
          "output_type": "stream",
          "name": "stdout",
          "text": [
            "18486.76073619632\n",
            "[4153.27936405]\n"
          ]
        }
      ]
    },
    {
      "cell_type": "code",
      "source": [
        "y_pred = model.predict(X_test)\n",
        "y_pred"
      ],
      "metadata": {
        "colab": {
          "base_uri": "https://localhost:8080/"
        },
        "outputId": "99ac3a89-f91e-466a-b2cb-43e53a48247d",
        "id": "jbVBDeNqlHaC"
      },
      "execution_count": 183,
      "outputs": [
        {
          "output_type": "execute_result",
          "data": {
            "text/plain": [
              "array([22640.04010025, 18486.7607362 , 18486.7607362 , 22640.04010025,\n",
              "       22640.04010025, 22640.04010025, 18486.7607362 , 22640.04010025,\n",
              "       22640.04010025, 22640.04010025, 22640.04010025, 22640.04010025,\n",
              "       22640.04010025, 22640.04010025, 22640.04010025, 18486.7607362 ,\n",
              "       22640.04010025, 22640.04010025, 22640.04010025, 18486.7607362 ,\n",
              "       18486.7607362 , 22640.04010025, 22640.04010025, 22640.04010025,\n",
              "       18486.7607362 , 22640.04010025, 22640.04010025, 18486.7607362 ,\n",
              "       22640.04010025, 22640.04010025, 18486.7607362 , 22640.04010025,\n",
              "       22640.04010025, 22640.04010025, 18486.7607362 , 18486.7607362 ,\n",
              "       22640.04010025, 22640.04010025, 22640.04010025, 18486.7607362 ,\n",
              "       22640.04010025, 22640.04010025, 18486.7607362 , 22640.04010025,\n",
              "       18486.7607362 , 22640.04010025, 22640.04010025, 22640.04010025,\n",
              "       22640.04010025, 18486.7607362 , 22640.04010025, 22640.04010025,\n",
              "       22640.04010025, 22640.04010025, 22640.04010025, 22640.04010025,\n",
              "       22640.04010025, 22640.04010025, 22640.04010025, 18486.7607362 ,\n",
              "       22640.04010025, 22640.04010025, 22640.04010025, 18486.7607362 ,\n",
              "       18486.7607362 , 22640.04010025, 22640.04010025, 22640.04010025,\n",
              "       22640.04010025, 22640.04010025, 22640.04010025, 22640.04010025,\n",
              "       22640.04010025, 22640.04010025, 22640.04010025, 22640.04010025,\n",
              "       18486.7607362 , 22640.04010025, 22640.04010025, 22640.04010025,\n",
              "       22640.04010025, 18486.7607362 , 22640.04010025, 22640.04010025,\n",
              "       22640.04010025, 18486.7607362 , 22640.04010025, 22640.04010025,\n",
              "       18486.7607362 , 22640.04010025, 18486.7607362 , 18486.7607362 ,\n",
              "       22640.04010025, 22640.04010025, 22640.04010025, 22640.04010025,\n",
              "       18486.7607362 , 22640.04010025, 22640.04010025, 22640.04010025,\n",
              "       22640.04010025, 22640.04010025, 18486.7607362 , 22640.04010025,\n",
              "       22640.04010025, 22640.04010025, 18486.7607362 , 18486.7607362 ,\n",
              "       22640.04010025, 22640.04010025, 18486.7607362 , 22640.04010025,\n",
              "       22640.04010025, 22640.04010025, 22640.04010025, 22640.04010025,\n",
              "       22640.04010025, 18486.7607362 , 22640.04010025, 22640.04010025,\n",
              "       22640.04010025, 22640.04010025, 22640.04010025, 22640.04010025,\n",
              "       22640.04010025, 22640.04010025, 22640.04010025, 18486.7607362 ,\n",
              "       18486.7607362 , 22640.04010025, 22640.04010025, 18486.7607362 ,\n",
              "       22640.04010025, 22640.04010025, 22640.04010025, 18486.7607362 ,\n",
              "       22640.04010025, 22640.04010025, 18486.7607362 , 22640.04010025,\n",
              "       22640.04010025, 22640.04010025, 22640.04010025, 18486.7607362 ,\n",
              "       18486.7607362 , 22640.04010025, 22640.04010025, 22640.04010025,\n",
              "       22640.04010025, 22640.04010025, 22640.04010025, 22640.04010025,\n",
              "       22640.04010025, 18486.7607362 , 22640.04010025, 22640.04010025,\n",
              "       18486.7607362 , 22640.04010025, 18486.7607362 , 22640.04010025,\n",
              "       18486.7607362 , 18486.7607362 , 22640.04010025, 18486.7607362 ,\n",
              "       22640.04010025, 22640.04010025, 22640.04010025, 22640.04010025,\n",
              "       18486.7607362 , 22640.04010025, 22640.04010025, 22640.04010025,\n",
              "       22640.04010025, 18486.7607362 , 18486.7607362 , 22640.04010025,\n",
              "       22640.04010025, 22640.04010025, 22640.04010025, 22640.04010025,\n",
              "       22640.04010025, 18486.7607362 , 22640.04010025, 22640.04010025,\n",
              "       22640.04010025, 22640.04010025, 22640.04010025, 22640.04010025,\n",
              "       22640.04010025, 22640.04010025, 18486.7607362 , 22640.04010025,\n",
              "       22640.04010025, 22640.04010025, 22640.04010025, 22640.04010025,\n",
              "       22640.04010025, 18486.7607362 , 18486.7607362 , 22640.04010025,\n",
              "       22640.04010025, 22640.04010025, 22640.04010025, 22640.04010025,\n",
              "       22640.04010025, 22640.04010025, 22640.04010025, 22640.04010025,\n",
              "       22640.04010025, 18486.7607362 , 22640.04010025, 22640.04010025,\n",
              "       22640.04010025, 22640.04010025, 22640.04010025, 22640.04010025,\n",
              "       18486.7607362 , 22640.04010025, 22640.04010025, 22640.04010025,\n",
              "       18486.7607362 , 22640.04010025, 18486.7607362 , 22640.04010025,\n",
              "       18486.7607362 , 22640.04010025, 22640.04010025, 22640.04010025,\n",
              "       22640.04010025, 18486.7607362 , 22640.04010025, 18486.7607362 ,\n",
              "       22640.04010025, 22640.04010025, 22640.04010025, 18486.7607362 ,\n",
              "       22640.04010025, 22640.04010025, 18486.7607362 , 22640.04010025,\n",
              "       22640.04010025, 22640.04010025])"
            ]
          },
          "metadata": {},
          "execution_count": 183
        }
      ]
    },
    {
      "cell_type": "code",
      "source": [
        "Score=model.score(X_train,y_train)\n",
        "print(Score)"
      ],
      "metadata": {
        "colab": {
          "base_uri": "https://localhost:8080/"
        },
        "outputId": "304d0e37-d557-4573-d3db-e4fc5b5e78af",
        "id": "09iqd23dlHaC"
      },
      "execution_count": 184,
      "outputs": [
        {
          "output_type": "stream",
          "name": "stdout",
          "text": [
            "0.03483839925758725\n"
          ]
        }
      ]
    },
    {
      "cell_type": "markdown",
      "source": [
        "Seems Like we need to use all the column expect price to predict the price"
      ],
      "metadata": {
        "id": "B-3kxGfblb7v"
      }
    },
    {
      "cell_type": "markdown",
      "source": [
        "# Part 3"
      ],
      "metadata": {
        "id": "uPMsFUyVlihB"
      }
    },
    {
      "cell_type": "markdown",
      "source": [
        "Research dummy variables in scikit-learn to see how to use the make, model, and body type."
      ],
      "metadata": {
        "id": "ZKRyt-nmlvg1"
      }
    },
    {
      "cell_type": "markdown",
      "source": [
        "Label encoding Make,Model and Body type produces the best model"
      ],
      "metadata": {
        "id": "kKglsIR_l0RW"
      }
    }
  ],
  "metadata": {
    "kernelspec": {
      "display_name": "Python 3",
      "language": "python",
      "name": "python3"
    },
    "language_info": {
      "codemirror_mode": {
        "name": "ipython",
        "version": 3
      },
      "file_extension": ".py",
      "mimetype": "text/x-python",
      "name": "python",
      "nbconvert_exporter": "python",
      "pygments_lexer": "ipython3",
      "version": "3.8.3"
    },
    "colab": {
      "name": "Assignment_8.ipynb",
      "provenance": [],
      "collapsed_sections": [
        "kQE8Bo1NqK4R",
        "KQI4UEfWqhWe"
      ]
    }
  },
  "nbformat": 4,
  "nbformat_minor": 0
}